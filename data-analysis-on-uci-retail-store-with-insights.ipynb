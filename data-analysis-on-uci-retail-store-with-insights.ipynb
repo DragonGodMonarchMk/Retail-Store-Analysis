{
 "cells": [
  {
   "cell_type": "markdown",
   "id": "dc806015",
   "metadata": {
    "papermill": {
     "duration": 0.08621,
     "end_time": "2021-10-26T02:50:01.280208",
     "exception": false,
     "start_time": "2021-10-26T02:50:01.193998",
     "status": "completed"
    },
    "tags": []
   },
   "source": [
    "* This Dataset contains all transactions occuring in a store.\n",
    "* I tried to bring some Insights from the Dataset to help the businness grow and improve."
   ]
  },
  {
   "cell_type": "markdown",
   "id": "bcfce1f9",
   "metadata": {
    "papermill": {
     "duration": 0.069506,
     "end_time": "2021-10-26T02:50:01.427967",
     "exception": false,
     "start_time": "2021-10-26T02:50:01.358461",
     "status": "completed"
    },
    "tags": []
   },
   "source": [
    "IF YOU LIKE THE KERNAL. PLEASE DO UPVOTE."
   ]
  },
  {
   "cell_type": "code",
   "execution_count": 1,
   "id": "8d859f4e",
   "metadata": {
    "execution": {
     "iopub.execute_input": "2021-10-26T02:50:01.631425Z",
     "iopub.status.busy": "2021-10-26T02:50:01.630175Z",
     "iopub.status.idle": "2021-10-26T02:50:01.643700Z",
     "shell.execute_reply": "2021-10-26T02:50:01.644249Z",
     "shell.execute_reply.started": "2021-10-26T02:31:46.865105Z"
    },
    "id": "FWR0IkAqjfPU",
    "papermill": {
     "duration": 0.08671,
     "end_time": "2021-10-26T02:50:01.644598",
     "exception": false,
     "start_time": "2021-10-26T02:50:01.557888",
     "status": "completed"
    },
    "tags": []
   },
   "outputs": [],
   "source": [
    "# import libraries\n",
    "import pandas as pd\n",
    "import numpy as np\n",
    "import matplotlib.pyplot as plt\n",
    "\n",
    "%matplotlib inline\n",
    "\n",
    "import datetime as dt\n",
    "\n",
    "import warnings\n",
    "warnings.filterwarnings(\"ignore\")"
   ]
  },
  {
   "cell_type": "code",
   "execution_count": 2,
   "id": "881e54ae",
   "metadata": {
    "execution": {
     "iopub.execute_input": "2021-10-26T02:50:01.786542Z",
     "iopub.status.busy": "2021-10-26T02:50:01.785898Z",
     "iopub.status.idle": "2021-10-26T02:50:12.852785Z",
     "shell.execute_reply": "2021-10-26T02:50:12.852024Z",
     "shell.execute_reply.started": "2021-10-26T02:31:46.874484Z"
    },
    "papermill": {
     "duration": 11.138876,
     "end_time": "2021-10-26T02:50:12.852941",
     "exception": false,
     "start_time": "2021-10-26T02:50:01.714065",
     "status": "completed"
    },
    "tags": []
   },
   "outputs": [
    {
     "name": "stdout",
     "output_type": "stream",
     "text": [
      "Collecting openpyxl\r\n",
      "  Downloading openpyxl-3.0.9-py2.py3-none-any.whl (242 kB)\r\n",
      "\u001b[K     |████████████████████████████████| 242 kB 908 kB/s \r\n",
      "\u001b[?25hCollecting et-xmlfile\r\n",
      "  Downloading et_xmlfile-1.1.0-py3-none-any.whl (4.7 kB)\r\n",
      "Installing collected packages: et-xmlfile, openpyxl\r\n",
      "Successfully installed et-xmlfile-1.1.0 openpyxl-3.0.9\r\n",
      "\u001b[33mWARNING: Running pip as the 'root' user can result in broken permissions and conflicting behaviour with the system package manager. It is recommended to use a virtual environment instead: https://pip.pypa.io/warnings/venv\u001b[0m\r\n"
     ]
    }
   ],
   "source": [
    "!pip install openpyxl"
   ]
  },
  {
   "cell_type": "code",
   "execution_count": 3,
   "id": "0b91247f",
   "metadata": {
    "execution": {
     "iopub.execute_input": "2021-10-26T02:50:13.004193Z",
     "iopub.status.busy": "2021-10-26T02:50:13.003517Z",
     "iopub.status.idle": "2021-10-26T02:51:38.031645Z",
     "shell.execute_reply": "2021-10-26T02:51:38.030913Z",
     "shell.execute_reply.started": "2021-10-26T02:31:57.952818Z"
    },
    "id": "UxF0PxqhmvfG",
    "papermill": {
     "duration": 85.106694,
     "end_time": "2021-10-26T02:51:38.031812",
     "exception": false,
     "start_time": "2021-10-26T02:50:12.925118",
     "status": "completed"
    },
    "tags": []
   },
   "outputs": [],
   "source": [
    "df=pd.read_excel('../input/online-store-data/RetailStoreData.xlsx')"
   ]
  },
  {
   "cell_type": "code",
   "execution_count": 4,
   "id": "fbb7da90",
   "metadata": {
    "execution": {
     "iopub.execute_input": "2021-10-26T02:51:38.320155Z",
     "iopub.status.busy": "2021-10-26T02:51:38.319433Z",
     "iopub.status.idle": "2021-10-26T02:51:38.344460Z",
     "shell.execute_reply": "2021-10-26T02:51:38.343919Z",
     "shell.execute_reply.started": "2021-10-26T02:33:22.413125Z"
    },
    "id": "cFVCBNa5nIRb",
    "outputId": "e13bce5b-2b37-4d75-e372-2adf05892998",
    "papermill": {
     "duration": 0.240227,
     "end_time": "2021-10-26T02:51:38.344614",
     "exception": false,
     "start_time": "2021-10-26T02:51:38.104387",
     "status": "completed"
    },
    "tags": []
   },
   "outputs": [
    {
     "data": {
      "text/html": [
       "<div>\n",
       "<style scoped>\n",
       "    .dataframe tbody tr th:only-of-type {\n",
       "        vertical-align: middle;\n",
       "    }\n",
       "\n",
       "    .dataframe tbody tr th {\n",
       "        vertical-align: top;\n",
       "    }\n",
       "\n",
       "    .dataframe thead th {\n",
       "        text-align: right;\n",
       "    }\n",
       "</style>\n",
       "<table border=\"1\" class=\"dataframe\">\n",
       "  <thead>\n",
       "    <tr style=\"text-align: right;\">\n",
       "      <th></th>\n",
       "      <th>Invoice</th>\n",
       "      <th>StockCode</th>\n",
       "      <th>Description</th>\n",
       "      <th>Quantity</th>\n",
       "      <th>InvoiceDate</th>\n",
       "      <th>Price</th>\n",
       "      <th>Customer ID</th>\n",
       "      <th>Country</th>\n",
       "    </tr>\n",
       "  </thead>\n",
       "  <tbody>\n",
       "    <tr>\n",
       "      <th>0</th>\n",
       "      <td>489434</td>\n",
       "      <td>85048</td>\n",
       "      <td>15CM CHRISTMAS GLASS BALL 20 LIGHTS</td>\n",
       "      <td>12</td>\n",
       "      <td>2009-12-01 07:45:00</td>\n",
       "      <td>6.95</td>\n",
       "      <td>13085.0</td>\n",
       "      <td>United Kingdom</td>\n",
       "    </tr>\n",
       "    <tr>\n",
       "      <th>1</th>\n",
       "      <td>489434</td>\n",
       "      <td>79323P</td>\n",
       "      <td>PINK CHERRY LIGHTS</td>\n",
       "      <td>12</td>\n",
       "      <td>2009-12-01 07:45:00</td>\n",
       "      <td>6.75</td>\n",
       "      <td>13085.0</td>\n",
       "      <td>United Kingdom</td>\n",
       "    </tr>\n",
       "    <tr>\n",
       "      <th>2</th>\n",
       "      <td>489434</td>\n",
       "      <td>79323W</td>\n",
       "      <td>WHITE CHERRY LIGHTS</td>\n",
       "      <td>12</td>\n",
       "      <td>2009-12-01 07:45:00</td>\n",
       "      <td>6.75</td>\n",
       "      <td>13085.0</td>\n",
       "      <td>United Kingdom</td>\n",
       "    </tr>\n",
       "    <tr>\n",
       "      <th>3</th>\n",
       "      <td>489434</td>\n",
       "      <td>22041</td>\n",
       "      <td>RECORD FRAME 7\" SINGLE SIZE</td>\n",
       "      <td>48</td>\n",
       "      <td>2009-12-01 07:45:00</td>\n",
       "      <td>2.10</td>\n",
       "      <td>13085.0</td>\n",
       "      <td>United Kingdom</td>\n",
       "    </tr>\n",
       "    <tr>\n",
       "      <th>4</th>\n",
       "      <td>489434</td>\n",
       "      <td>21232</td>\n",
       "      <td>STRAWBERRY CERAMIC TRINKET BOX</td>\n",
       "      <td>24</td>\n",
       "      <td>2009-12-01 07:45:00</td>\n",
       "      <td>1.25</td>\n",
       "      <td>13085.0</td>\n",
       "      <td>United Kingdom</td>\n",
       "    </tr>\n",
       "    <tr>\n",
       "      <th>...</th>\n",
       "      <td>...</td>\n",
       "      <td>...</td>\n",
       "      <td>...</td>\n",
       "      <td>...</td>\n",
       "      <td>...</td>\n",
       "      <td>...</td>\n",
       "      <td>...</td>\n",
       "      <td>...</td>\n",
       "    </tr>\n",
       "    <tr>\n",
       "      <th>525456</th>\n",
       "      <td>538171</td>\n",
       "      <td>22271</td>\n",
       "      <td>FELTCRAFT DOLL ROSIE</td>\n",
       "      <td>2</td>\n",
       "      <td>2010-12-09 20:01:00</td>\n",
       "      <td>2.95</td>\n",
       "      <td>17530.0</td>\n",
       "      <td>United Kingdom</td>\n",
       "    </tr>\n",
       "    <tr>\n",
       "      <th>525457</th>\n",
       "      <td>538171</td>\n",
       "      <td>22750</td>\n",
       "      <td>FELTCRAFT PRINCESS LOLA DOLL</td>\n",
       "      <td>1</td>\n",
       "      <td>2010-12-09 20:01:00</td>\n",
       "      <td>3.75</td>\n",
       "      <td>17530.0</td>\n",
       "      <td>United Kingdom</td>\n",
       "    </tr>\n",
       "    <tr>\n",
       "      <th>525458</th>\n",
       "      <td>538171</td>\n",
       "      <td>22751</td>\n",
       "      <td>FELTCRAFT PRINCESS OLIVIA DOLL</td>\n",
       "      <td>1</td>\n",
       "      <td>2010-12-09 20:01:00</td>\n",
       "      <td>3.75</td>\n",
       "      <td>17530.0</td>\n",
       "      <td>United Kingdom</td>\n",
       "    </tr>\n",
       "    <tr>\n",
       "      <th>525459</th>\n",
       "      <td>538171</td>\n",
       "      <td>20970</td>\n",
       "      <td>PINK FLORAL FELTCRAFT SHOULDER BAG</td>\n",
       "      <td>2</td>\n",
       "      <td>2010-12-09 20:01:00</td>\n",
       "      <td>3.75</td>\n",
       "      <td>17530.0</td>\n",
       "      <td>United Kingdom</td>\n",
       "    </tr>\n",
       "    <tr>\n",
       "      <th>525460</th>\n",
       "      <td>538171</td>\n",
       "      <td>21931</td>\n",
       "      <td>JUMBO STORAGE BAG SUKI</td>\n",
       "      <td>2</td>\n",
       "      <td>2010-12-09 20:01:00</td>\n",
       "      <td>1.95</td>\n",
       "      <td>17530.0</td>\n",
       "      <td>United Kingdom</td>\n",
       "    </tr>\n",
       "  </tbody>\n",
       "</table>\n",
       "<p>525461 rows × 8 columns</p>\n",
       "</div>"
      ],
      "text/plain": [
       "       Invoice StockCode                          Description  Quantity  \\\n",
       "0       489434     85048  15CM CHRISTMAS GLASS BALL 20 LIGHTS        12   \n",
       "1       489434    79323P                   PINK CHERRY LIGHTS        12   \n",
       "2       489434    79323W                  WHITE CHERRY LIGHTS        12   \n",
       "3       489434     22041         RECORD FRAME 7\" SINGLE SIZE         48   \n",
       "4       489434     21232       STRAWBERRY CERAMIC TRINKET BOX        24   \n",
       "...        ...       ...                                  ...       ...   \n",
       "525456  538171     22271                 FELTCRAFT DOLL ROSIE         2   \n",
       "525457  538171     22750         FELTCRAFT PRINCESS LOLA DOLL         1   \n",
       "525458  538171     22751       FELTCRAFT PRINCESS OLIVIA DOLL         1   \n",
       "525459  538171     20970   PINK FLORAL FELTCRAFT SHOULDER BAG         2   \n",
       "525460  538171     21931               JUMBO STORAGE BAG SUKI         2   \n",
       "\n",
       "               InvoiceDate  Price  Customer ID         Country  \n",
       "0      2009-12-01 07:45:00   6.95      13085.0  United Kingdom  \n",
       "1      2009-12-01 07:45:00   6.75      13085.0  United Kingdom  \n",
       "2      2009-12-01 07:45:00   6.75      13085.0  United Kingdom  \n",
       "3      2009-12-01 07:45:00   2.10      13085.0  United Kingdom  \n",
       "4      2009-12-01 07:45:00   1.25      13085.0  United Kingdom  \n",
       "...                    ...    ...          ...             ...  \n",
       "525456 2010-12-09 20:01:00   2.95      17530.0  United Kingdom  \n",
       "525457 2010-12-09 20:01:00   3.75      17530.0  United Kingdom  \n",
       "525458 2010-12-09 20:01:00   3.75      17530.0  United Kingdom  \n",
       "525459 2010-12-09 20:01:00   3.75      17530.0  United Kingdom  \n",
       "525460 2010-12-09 20:01:00   1.95      17530.0  United Kingdom  \n",
       "\n",
       "[525461 rows x 8 columns]"
      ]
     },
     "execution_count": 4,
     "metadata": {},
     "output_type": "execute_result"
    }
   ],
   "source": [
    "df"
   ]
  },
  {
   "cell_type": "markdown",
   "id": "e7889311",
   "metadata": {
    "id": "KaQPL9hgnMib",
    "papermill": {
     "duration": 0.071862,
     "end_time": "2021-10-26T02:51:38.489416",
     "exception": false,
     "start_time": "2021-10-26T02:51:38.417554",
     "status": "completed"
    },
    "tags": []
   },
   "source": [
    "# Exploratory Data Analysis"
   ]
  },
  {
   "cell_type": "code",
   "execution_count": 5,
   "id": "b63c2e11",
   "metadata": {
    "execution": {
     "iopub.execute_input": "2021-10-26T02:51:38.637020Z",
     "iopub.status.busy": "2021-10-26T02:51:38.636368Z",
     "iopub.status.idle": "2021-10-26T02:51:38.711834Z",
     "shell.execute_reply": "2021-10-26T02:51:38.711302Z",
     "shell.execute_reply.started": "2021-10-26T02:33:22.583162Z"
    },
    "id": "lizisuR_nrU5",
    "outputId": "19ceb5d1-04fc-475b-e9c4-64160b1ef39c",
    "papermill": {
     "duration": 0.150231,
     "end_time": "2021-10-26T02:51:38.711977",
     "exception": false,
     "start_time": "2021-10-26T02:51:38.561746",
     "status": "completed"
    },
    "tags": []
   },
   "outputs": [
    {
     "data": {
      "text/html": [
       "<div>\n",
       "<style scoped>\n",
       "    .dataframe tbody tr th:only-of-type {\n",
       "        vertical-align: middle;\n",
       "    }\n",
       "\n",
       "    .dataframe tbody tr th {\n",
       "        vertical-align: top;\n",
       "    }\n",
       "\n",
       "    .dataframe thead th {\n",
       "        text-align: right;\n",
       "    }\n",
       "</style>\n",
       "<table border=\"1\" class=\"dataframe\">\n",
       "  <thead>\n",
       "    <tr style=\"text-align: right;\">\n",
       "      <th></th>\n",
       "      <th>Quantity</th>\n",
       "      <th>Price</th>\n",
       "      <th>Customer ID</th>\n",
       "    </tr>\n",
       "  </thead>\n",
       "  <tbody>\n",
       "    <tr>\n",
       "      <th>count</th>\n",
       "      <td>525461.000000</td>\n",
       "      <td>525461.000000</td>\n",
       "      <td>417534.000000</td>\n",
       "    </tr>\n",
       "    <tr>\n",
       "      <th>mean</th>\n",
       "      <td>10.337667</td>\n",
       "      <td>4.688834</td>\n",
       "      <td>15360.645478</td>\n",
       "    </tr>\n",
       "    <tr>\n",
       "      <th>std</th>\n",
       "      <td>107.424110</td>\n",
       "      <td>146.126914</td>\n",
       "      <td>1680.811316</td>\n",
       "    </tr>\n",
       "    <tr>\n",
       "      <th>min</th>\n",
       "      <td>-9600.000000</td>\n",
       "      <td>-53594.360000</td>\n",
       "      <td>12346.000000</td>\n",
       "    </tr>\n",
       "    <tr>\n",
       "      <th>25%</th>\n",
       "      <td>1.000000</td>\n",
       "      <td>1.250000</td>\n",
       "      <td>13983.000000</td>\n",
       "    </tr>\n",
       "    <tr>\n",
       "      <th>50%</th>\n",
       "      <td>3.000000</td>\n",
       "      <td>2.100000</td>\n",
       "      <td>15311.000000</td>\n",
       "    </tr>\n",
       "    <tr>\n",
       "      <th>75%</th>\n",
       "      <td>10.000000</td>\n",
       "      <td>4.210000</td>\n",
       "      <td>16799.000000</td>\n",
       "    </tr>\n",
       "    <tr>\n",
       "      <th>max</th>\n",
       "      <td>19152.000000</td>\n",
       "      <td>25111.090000</td>\n",
       "      <td>18287.000000</td>\n",
       "    </tr>\n",
       "  </tbody>\n",
       "</table>\n",
       "</div>"
      ],
      "text/plain": [
       "            Quantity          Price    Customer ID\n",
       "count  525461.000000  525461.000000  417534.000000\n",
       "mean       10.337667       4.688834   15360.645478\n",
       "std       107.424110     146.126914    1680.811316\n",
       "min     -9600.000000  -53594.360000   12346.000000\n",
       "25%         1.000000       1.250000   13983.000000\n",
       "50%         3.000000       2.100000   15311.000000\n",
       "75%        10.000000       4.210000   16799.000000\n",
       "max     19152.000000   25111.090000   18287.000000"
      ]
     },
     "execution_count": 5,
     "metadata": {},
     "output_type": "execute_result"
    }
   ],
   "source": [
    "df.describe()"
   ]
  },
  {
   "cell_type": "markdown",
   "id": "4c9da250",
   "metadata": {
    "id": "8ZwndBHPG1W3",
    "papermill": {
     "duration": 0.072691,
     "end_time": "2021-10-26T02:51:38.858033",
     "exception": false,
     "start_time": "2021-10-26T02:51:38.785342",
     "status": "completed"
    },
    "tags": []
   },
   "source": [
    "#### Delete Unnecessary rows"
   ]
  },
  {
   "cell_type": "markdown",
   "id": "3f26a295",
   "metadata": {
    "id": "CQjjFNC29tLV",
    "papermill": {
     "duration": 0.072712,
     "end_time": "2021-10-26T02:51:39.003643",
     "exception": false,
     "start_time": "2021-10-26T02:51:38.930931",
     "status": "completed"
    },
    "tags": []
   },
   "source": [
    "`One thing notice from above df.decribe is that the min price is negative. Since negative Price is Not possible Let's see how many rows have negative price.`"
   ]
  },
  {
   "cell_type": "code",
   "execution_count": 6,
   "id": "1b520b51",
   "metadata": {
    "execution": {
     "iopub.execute_input": "2021-10-26T02:51:39.157918Z",
     "iopub.status.busy": "2021-10-26T02:51:39.156693Z",
     "iopub.status.idle": "2021-10-26T02:51:39.170239Z",
     "shell.execute_reply": "2021-10-26T02:51:39.170912Z",
     "shell.execute_reply.started": "2021-10-26T02:33:22.659342Z"
    },
    "id": "AoFUMlq8PdMQ",
    "outputId": "fb178ec6-d1fd-4bf8-9cff-1c09dfa67564",
    "papermill": {
     "duration": 0.092371,
     "end_time": "2021-10-26T02:51:39.171084",
     "exception": false,
     "start_time": "2021-10-26T02:51:39.078713",
     "status": "completed"
    },
    "tags": []
   },
   "outputs": [
    {
     "data": {
      "text/html": [
       "<div>\n",
       "<style scoped>\n",
       "    .dataframe tbody tr th:only-of-type {\n",
       "        vertical-align: middle;\n",
       "    }\n",
       "\n",
       "    .dataframe tbody tr th {\n",
       "        vertical-align: top;\n",
       "    }\n",
       "\n",
       "    .dataframe thead th {\n",
       "        text-align: right;\n",
       "    }\n",
       "</style>\n",
       "<table border=\"1\" class=\"dataframe\">\n",
       "  <thead>\n",
       "    <tr style=\"text-align: right;\">\n",
       "      <th></th>\n",
       "      <th>Invoice</th>\n",
       "      <th>StockCode</th>\n",
       "      <th>Description</th>\n",
       "      <th>Quantity</th>\n",
       "      <th>InvoiceDate</th>\n",
       "      <th>Price</th>\n",
       "      <th>Customer ID</th>\n",
       "      <th>Country</th>\n",
       "    </tr>\n",
       "  </thead>\n",
       "  <tbody>\n",
       "    <tr>\n",
       "      <th>179403</th>\n",
       "      <td>A506401</td>\n",
       "      <td>B</td>\n",
       "      <td>Adjust bad debt</td>\n",
       "      <td>1</td>\n",
       "      <td>2010-04-29 13:36:00</td>\n",
       "      <td>-53594.36</td>\n",
       "      <td>NaN</td>\n",
       "      <td>United Kingdom</td>\n",
       "    </tr>\n",
       "    <tr>\n",
       "      <th>276274</th>\n",
       "      <td>A516228</td>\n",
       "      <td>B</td>\n",
       "      <td>Adjust bad debt</td>\n",
       "      <td>1</td>\n",
       "      <td>2010-07-19 11:24:00</td>\n",
       "      <td>-44031.79</td>\n",
       "      <td>NaN</td>\n",
       "      <td>United Kingdom</td>\n",
       "    </tr>\n",
       "    <tr>\n",
       "      <th>403472</th>\n",
       "      <td>A528059</td>\n",
       "      <td>B</td>\n",
       "      <td>Adjust bad debt</td>\n",
       "      <td>1</td>\n",
       "      <td>2010-10-20 12:04:00</td>\n",
       "      <td>-38925.87</td>\n",
       "      <td>NaN</td>\n",
       "      <td>United Kingdom</td>\n",
       "    </tr>\n",
       "  </tbody>\n",
       "</table>\n",
       "</div>"
      ],
      "text/plain": [
       "        Invoice StockCode      Description  Quantity         InvoiceDate  \\\n",
       "179403  A506401         B  Adjust bad debt         1 2010-04-29 13:36:00   \n",
       "276274  A516228         B  Adjust bad debt         1 2010-07-19 11:24:00   \n",
       "403472  A528059         B  Adjust bad debt         1 2010-10-20 12:04:00   \n",
       "\n",
       "           Price  Customer ID         Country  \n",
       "179403 -53594.36          NaN  United Kingdom  \n",
       "276274 -44031.79          NaN  United Kingdom  \n",
       "403472 -38925.87          NaN  United Kingdom  "
      ]
     },
     "execution_count": 6,
     "metadata": {},
     "output_type": "execute_result"
    }
   ],
   "source": [
    "df[df['Price']<0]"
   ]
  },
  {
   "cell_type": "markdown",
   "id": "404122eb",
   "metadata": {
    "id": "NDu-sgCE9jNR",
    "papermill": {
     "duration": 0.073065,
     "end_time": "2021-10-26T02:51:39.330067",
     "exception": false,
     "start_time": "2021-10-26T02:51:39.257002",
     "status": "completed"
    },
    "tags": []
   },
   "source": [
    "Since there are only 3 negative price rows. So, we can delete them."
   ]
  },
  {
   "cell_type": "code",
   "execution_count": 7,
   "id": "03fdca36",
   "metadata": {
    "execution": {
     "iopub.execute_input": "2021-10-26T02:51:39.480233Z",
     "iopub.status.busy": "2021-10-26T02:51:39.479611Z",
     "iopub.status.idle": "2021-10-26T02:51:39.532661Z",
     "shell.execute_reply": "2021-10-26T02:51:39.532000Z",
     "shell.execute_reply.started": "2021-10-26T02:33:22.677326Z"
    },
    "id": "opBDMRMv-Jf1",
    "papermill": {
     "duration": 0.128855,
     "end_time": "2021-10-26T02:51:39.532807",
     "exception": false,
     "start_time": "2021-10-26T02:51:39.403952",
     "status": "completed"
    },
    "tags": []
   },
   "outputs": [],
   "source": [
    "df = df.drop(df[df['Price']<0].index)"
   ]
  },
  {
   "cell_type": "code",
   "execution_count": 8,
   "id": "3f80cd24",
   "metadata": {
    "execution": {
     "iopub.execute_input": "2021-10-26T02:51:39.684040Z",
     "iopub.status.busy": "2021-10-26T02:51:39.683396Z",
     "iopub.status.idle": "2021-10-26T02:51:39.705667Z",
     "shell.execute_reply": "2021-10-26T02:51:39.706189Z",
     "shell.execute_reply.started": "2021-10-26T02:33:22.730727Z"
    },
    "id": "bM8oJIPHA6wi",
    "outputId": "1e7b1d39-b141-461c-8a76-9736dbfc8ec1",
    "papermill": {
     "duration": 0.100179,
     "end_time": "2021-10-26T02:51:39.706396",
     "exception": false,
     "start_time": "2021-10-26T02:51:39.606217",
     "status": "completed"
    },
    "tags": []
   },
   "outputs": [
    {
     "data": {
      "text/html": [
       "<div>\n",
       "<style scoped>\n",
       "    .dataframe tbody tr th:only-of-type {\n",
       "        vertical-align: middle;\n",
       "    }\n",
       "\n",
       "    .dataframe tbody tr th {\n",
       "        vertical-align: top;\n",
       "    }\n",
       "\n",
       "    .dataframe thead th {\n",
       "        text-align: right;\n",
       "    }\n",
       "</style>\n",
       "<table border=\"1\" class=\"dataframe\">\n",
       "  <thead>\n",
       "    <tr style=\"text-align: right;\">\n",
       "      <th></th>\n",
       "      <th>Invoice</th>\n",
       "      <th>StockCode</th>\n",
       "      <th>Description</th>\n",
       "      <th>Quantity</th>\n",
       "      <th>InvoiceDate</th>\n",
       "      <th>Price</th>\n",
       "      <th>Customer ID</th>\n",
       "      <th>Country</th>\n",
       "    </tr>\n",
       "  </thead>\n",
       "  <tbody>\n",
       "    <tr>\n",
       "      <th>178</th>\n",
       "      <td>C489449</td>\n",
       "      <td>22087</td>\n",
       "      <td>PAPER BUNTING WHITE LACE</td>\n",
       "      <td>-12</td>\n",
       "      <td>2009-12-01 10:33:00</td>\n",
       "      <td>2.95</td>\n",
       "      <td>16321.0</td>\n",
       "      <td>Australia</td>\n",
       "    </tr>\n",
       "    <tr>\n",
       "      <th>179</th>\n",
       "      <td>C489449</td>\n",
       "      <td>85206A</td>\n",
       "      <td>CREAM FELT EASTER EGG BASKET</td>\n",
       "      <td>-6</td>\n",
       "      <td>2009-12-01 10:33:00</td>\n",
       "      <td>1.65</td>\n",
       "      <td>16321.0</td>\n",
       "      <td>Australia</td>\n",
       "    </tr>\n",
       "    <tr>\n",
       "      <th>180</th>\n",
       "      <td>C489449</td>\n",
       "      <td>21895</td>\n",
       "      <td>POTTING SHED SOW 'N' GROW SET</td>\n",
       "      <td>-4</td>\n",
       "      <td>2009-12-01 10:33:00</td>\n",
       "      <td>4.25</td>\n",
       "      <td>16321.0</td>\n",
       "      <td>Australia</td>\n",
       "    </tr>\n",
       "    <tr>\n",
       "      <th>181</th>\n",
       "      <td>C489449</td>\n",
       "      <td>21896</td>\n",
       "      <td>POTTING SHED TWINE</td>\n",
       "      <td>-6</td>\n",
       "      <td>2009-12-01 10:33:00</td>\n",
       "      <td>2.10</td>\n",
       "      <td>16321.0</td>\n",
       "      <td>Australia</td>\n",
       "    </tr>\n",
       "    <tr>\n",
       "      <th>182</th>\n",
       "      <td>C489449</td>\n",
       "      <td>22083</td>\n",
       "      <td>PAPER CHAIN KIT RETRO SPOT</td>\n",
       "      <td>-12</td>\n",
       "      <td>2009-12-01 10:33:00</td>\n",
       "      <td>2.95</td>\n",
       "      <td>16321.0</td>\n",
       "      <td>Australia</td>\n",
       "    </tr>\n",
       "    <tr>\n",
       "      <th>...</th>\n",
       "      <td>...</td>\n",
       "      <td>...</td>\n",
       "      <td>...</td>\n",
       "      <td>...</td>\n",
       "      <td>...</td>\n",
       "      <td>...</td>\n",
       "      <td>...</td>\n",
       "      <td>...</td>\n",
       "    </tr>\n",
       "    <tr>\n",
       "      <th>525231</th>\n",
       "      <td>538159</td>\n",
       "      <td>21324</td>\n",
       "      <td>NaN</td>\n",
       "      <td>-18</td>\n",
       "      <td>2010-12-09 17:17:00</td>\n",
       "      <td>0.00</td>\n",
       "      <td>NaN</td>\n",
       "      <td>United Kingdom</td>\n",
       "    </tr>\n",
       "    <tr>\n",
       "      <th>525232</th>\n",
       "      <td>538158</td>\n",
       "      <td>20892</td>\n",
       "      <td>NaN</td>\n",
       "      <td>-32</td>\n",
       "      <td>2010-12-09 17:17:00</td>\n",
       "      <td>0.00</td>\n",
       "      <td>NaN</td>\n",
       "      <td>United Kingdom</td>\n",
       "    </tr>\n",
       "    <tr>\n",
       "      <th>525234</th>\n",
       "      <td>538161</td>\n",
       "      <td>46000S</td>\n",
       "      <td>Dotcom sales</td>\n",
       "      <td>-100</td>\n",
       "      <td>2010-12-09 17:25:00</td>\n",
       "      <td>0.00</td>\n",
       "      <td>NaN</td>\n",
       "      <td>United Kingdom</td>\n",
       "    </tr>\n",
       "    <tr>\n",
       "      <th>525235</th>\n",
       "      <td>538162</td>\n",
       "      <td>46000M</td>\n",
       "      <td>Dotcom sales</td>\n",
       "      <td>-100</td>\n",
       "      <td>2010-12-09 17:25:00</td>\n",
       "      <td>0.00</td>\n",
       "      <td>NaN</td>\n",
       "      <td>United Kingdom</td>\n",
       "    </tr>\n",
       "    <tr>\n",
       "      <th>525282</th>\n",
       "      <td>C538164</td>\n",
       "      <td>35004B</td>\n",
       "      <td>SET OF 3 BLACK FLYING DUCKS</td>\n",
       "      <td>-1</td>\n",
       "      <td>2010-12-09 17:32:00</td>\n",
       "      <td>1.95</td>\n",
       "      <td>14031.0</td>\n",
       "      <td>United Kingdom</td>\n",
       "    </tr>\n",
       "  </tbody>\n",
       "</table>\n",
       "<p>12326 rows × 8 columns</p>\n",
       "</div>"
      ],
      "text/plain": [
       "        Invoice StockCode                    Description  Quantity  \\\n",
       "178     C489449     22087       PAPER BUNTING WHITE LACE       -12   \n",
       "179     C489449    85206A   CREAM FELT EASTER EGG BASKET        -6   \n",
       "180     C489449     21895  POTTING SHED SOW 'N' GROW SET        -4   \n",
       "181     C489449     21896             POTTING SHED TWINE        -6   \n",
       "182     C489449     22083     PAPER CHAIN KIT RETRO SPOT       -12   \n",
       "...         ...       ...                            ...       ...   \n",
       "525231   538159     21324                            NaN       -18   \n",
       "525232   538158     20892                            NaN       -32   \n",
       "525234   538161    46000S                   Dotcom sales      -100   \n",
       "525235   538162    46000M                   Dotcom sales      -100   \n",
       "525282  C538164    35004B    SET OF 3 BLACK FLYING DUCKS        -1   \n",
       "\n",
       "               InvoiceDate  Price  Customer ID         Country  \n",
       "178    2009-12-01 10:33:00   2.95      16321.0       Australia  \n",
       "179    2009-12-01 10:33:00   1.65      16321.0       Australia  \n",
       "180    2009-12-01 10:33:00   4.25      16321.0       Australia  \n",
       "181    2009-12-01 10:33:00   2.10      16321.0       Australia  \n",
       "182    2009-12-01 10:33:00   2.95      16321.0       Australia  \n",
       "...                    ...    ...          ...             ...  \n",
       "525231 2010-12-09 17:17:00   0.00          NaN  United Kingdom  \n",
       "525232 2010-12-09 17:17:00   0.00          NaN  United Kingdom  \n",
       "525234 2010-12-09 17:25:00   0.00          NaN  United Kingdom  \n",
       "525235 2010-12-09 17:25:00   0.00          NaN  United Kingdom  \n",
       "525282 2010-12-09 17:32:00   1.95      14031.0  United Kingdom  \n",
       "\n",
       "[12326 rows x 8 columns]"
      ]
     },
     "execution_count": 8,
     "metadata": {},
     "output_type": "execute_result"
    }
   ],
   "source": [
    "df[df['Quantity']<0]"
   ]
  },
  {
   "cell_type": "markdown",
   "id": "2cda06e6",
   "metadata": {
    "id": "UeIPNrDdGl2i",
    "papermill": {
     "duration": 0.073353,
     "end_time": "2021-10-26T02:51:39.854770",
     "exception": false,
     "start_time": "2021-10-26T02:51:39.781417",
     "status": "completed"
    },
    "tags": []
   },
   "source": [
    "So, negative quantity doen't signify anything. So, we need to delete them."
   ]
  },
  {
   "cell_type": "code",
   "execution_count": 9,
   "id": "db186b2c",
   "metadata": {
    "execution": {
     "iopub.execute_input": "2021-10-26T02:51:40.007564Z",
     "iopub.status.busy": "2021-10-26T02:51:40.006916Z",
     "iopub.status.idle": "2021-10-26T02:51:40.110260Z",
     "shell.execute_reply": "2021-10-26T02:51:40.110860Z",
     "shell.execute_reply.started": "2021-10-26T02:33:22.758934Z"
    },
    "id": "lWHIBoVlGzeM",
    "papermill": {
     "duration": 0.180678,
     "end_time": "2021-10-26T02:51:40.111039",
     "exception": false,
     "start_time": "2021-10-26T02:51:39.930361",
     "status": "completed"
    },
    "tags": []
   },
   "outputs": [],
   "source": [
    "df = df.drop(df[df['Quantity']<0].index)"
   ]
  },
  {
   "cell_type": "markdown",
   "id": "911ac9a2",
   "metadata": {
    "id": "3MaW4lEos712",
    "papermill": {
     "duration": 0.094737,
     "end_time": "2021-10-26T02:51:40.283551",
     "exception": false,
     "start_time": "2021-10-26T02:51:40.188814",
     "status": "completed"
    },
    "tags": []
   },
   "source": [
    "***Checking Duplicate rows in data***"
   ]
  },
  {
   "cell_type": "code",
   "execution_count": 10,
   "id": "7722d595",
   "metadata": {
    "execution": {
     "iopub.execute_input": "2021-10-26T02:51:40.439816Z",
     "iopub.status.busy": "2021-10-26T02:51:40.439167Z",
     "iopub.status.idle": "2021-10-26T02:51:40.743642Z",
     "shell.execute_reply": "2021-10-26T02:51:40.744139Z",
     "shell.execute_reply.started": "2021-10-26T02:33:22.865768Z"
    },
    "id": "WmcZV8IAr1SX",
    "outputId": "68562057-ca41-4df5-fe94-696ee8768f59",
    "papermill": {
     "duration": 0.381697,
     "end_time": "2021-10-26T02:51:40.744329",
     "exception": false,
     "start_time": "2021-10-26T02:51:40.362632",
     "status": "completed"
    },
    "tags": []
   },
   "outputs": [
    {
     "data": {
      "text/html": [
       "<div>\n",
       "<style scoped>\n",
       "    .dataframe tbody tr th:only-of-type {\n",
       "        vertical-align: middle;\n",
       "    }\n",
       "\n",
       "    .dataframe tbody tr th {\n",
       "        vertical-align: top;\n",
       "    }\n",
       "\n",
       "    .dataframe thead th {\n",
       "        text-align: right;\n",
       "    }\n",
       "</style>\n",
       "<table border=\"1\" class=\"dataframe\">\n",
       "  <thead>\n",
       "    <tr style=\"text-align: right;\">\n",
       "      <th></th>\n",
       "      <th>Invoice</th>\n",
       "      <th>StockCode</th>\n",
       "      <th>Description</th>\n",
       "      <th>Quantity</th>\n",
       "      <th>InvoiceDate</th>\n",
       "      <th>Price</th>\n",
       "      <th>Customer ID</th>\n",
       "      <th>Country</th>\n",
       "    </tr>\n",
       "  </thead>\n",
       "  <tbody>\n",
       "    <tr>\n",
       "      <th>371</th>\n",
       "      <td>489517</td>\n",
       "      <td>21912</td>\n",
       "      <td>VINTAGE SNAKES &amp; LADDERS</td>\n",
       "      <td>1</td>\n",
       "      <td>2009-12-01 11:34:00</td>\n",
       "      <td>3.75</td>\n",
       "      <td>16329.0</td>\n",
       "      <td>United Kingdom</td>\n",
       "    </tr>\n",
       "    <tr>\n",
       "      <th>383</th>\n",
       "      <td>489517</td>\n",
       "      <td>22130</td>\n",
       "      <td>PARTY CONE CHRISTMAS DECORATION</td>\n",
       "      <td>6</td>\n",
       "      <td>2009-12-01 11:34:00</td>\n",
       "      <td>0.85</td>\n",
       "      <td>16329.0</td>\n",
       "      <td>United Kingdom</td>\n",
       "    </tr>\n",
       "    <tr>\n",
       "      <th>384</th>\n",
       "      <td>489517</td>\n",
       "      <td>22319</td>\n",
       "      <td>HAIRCLIPS FORTIES FABRIC ASSORTED</td>\n",
       "      <td>12</td>\n",
       "      <td>2009-12-01 11:34:00</td>\n",
       "      <td>0.65</td>\n",
       "      <td>16329.0</td>\n",
       "      <td>United Kingdom</td>\n",
       "    </tr>\n",
       "    <tr>\n",
       "      <th>385</th>\n",
       "      <td>489517</td>\n",
       "      <td>21913</td>\n",
       "      <td>VINTAGE SEASIDE JIGSAW PUZZLES</td>\n",
       "      <td>1</td>\n",
       "      <td>2009-12-01 11:34:00</td>\n",
       "      <td>3.75</td>\n",
       "      <td>16329.0</td>\n",
       "      <td>United Kingdom</td>\n",
       "    </tr>\n",
       "    <tr>\n",
       "      <th>386</th>\n",
       "      <td>489517</td>\n",
       "      <td>21821</td>\n",
       "      <td>GLITTER STAR GARLAND WITH BELLS</td>\n",
       "      <td>1</td>\n",
       "      <td>2009-12-01 11:34:00</td>\n",
       "      <td>3.75</td>\n",
       "      <td>16329.0</td>\n",
       "      <td>United Kingdom</td>\n",
       "    </tr>\n",
       "    <tr>\n",
       "      <th>...</th>\n",
       "      <td>...</td>\n",
       "      <td>...</td>\n",
       "      <td>...</td>\n",
       "      <td>...</td>\n",
       "      <td>...</td>\n",
       "      <td>...</td>\n",
       "      <td>...</td>\n",
       "      <td>...</td>\n",
       "    </tr>\n",
       "    <tr>\n",
       "      <th>523258</th>\n",
       "      <td>538035</td>\n",
       "      <td>20728</td>\n",
       "      <td>LUNCH BAG CARS BLUE</td>\n",
       "      <td>3</td>\n",
       "      <td>2010-12-09 13:03:00</td>\n",
       "      <td>1.65</td>\n",
       "      <td>16065.0</td>\n",
       "      <td>United Kingdom</td>\n",
       "    </tr>\n",
       "    <tr>\n",
       "      <th>523356</th>\n",
       "      <td>538051</td>\n",
       "      <td>22659</td>\n",
       "      <td>LUNCH BOX I LOVE LONDON</td>\n",
       "      <td>2</td>\n",
       "      <td>2010-12-09 13:24:00</td>\n",
       "      <td>1.95</td>\n",
       "      <td>18041.0</td>\n",
       "      <td>United Kingdom</td>\n",
       "    </tr>\n",
       "    <tr>\n",
       "      <th>525170</th>\n",
       "      <td>538155</td>\n",
       "      <td>21907</td>\n",
       "      <td>I'M ON HOLIDAY METAL SIGN</td>\n",
       "      <td>1</td>\n",
       "      <td>2010-12-09 16:52:00</td>\n",
       "      <td>2.10</td>\n",
       "      <td>16907.0</td>\n",
       "      <td>United Kingdom</td>\n",
       "    </tr>\n",
       "    <tr>\n",
       "      <th>525293</th>\n",
       "      <td>538166</td>\n",
       "      <td>21915</td>\n",
       "      <td>RED  HARMONICA IN BOX</td>\n",
       "      <td>5</td>\n",
       "      <td>2010-12-09 18:09:00</td>\n",
       "      <td>1.25</td>\n",
       "      <td>17965.0</td>\n",
       "      <td>United Kingdom</td>\n",
       "    </tr>\n",
       "    <tr>\n",
       "      <th>525340</th>\n",
       "      <td>538168</td>\n",
       "      <td>22739</td>\n",
       "      <td>RIBBON REEL CHRISTMAS SOCK BAUBLE</td>\n",
       "      <td>5</td>\n",
       "      <td>2010-12-09 19:23:00</td>\n",
       "      <td>1.65</td>\n",
       "      <td>14702.0</td>\n",
       "      <td>United Kingdom</td>\n",
       "    </tr>\n",
       "  </tbody>\n",
       "</table>\n",
       "<p>6841 rows × 8 columns</p>\n",
       "</div>"
      ],
      "text/plain": [
       "       Invoice StockCode                        Description  Quantity  \\\n",
       "371     489517     21912           VINTAGE SNAKES & LADDERS         1   \n",
       "383     489517     22130   PARTY CONE CHRISTMAS DECORATION          6   \n",
       "384     489517     22319  HAIRCLIPS FORTIES FABRIC ASSORTED        12   \n",
       "385     489517     21913     VINTAGE SEASIDE JIGSAW PUZZLES         1   \n",
       "386     489517     21821   GLITTER STAR GARLAND WITH BELLS          1   \n",
       "...        ...       ...                                ...       ...   \n",
       "523258  538035     20728                LUNCH BAG CARS BLUE         3   \n",
       "523356  538051     22659            LUNCH BOX I LOVE LONDON         2   \n",
       "525170  538155     21907          I'M ON HOLIDAY METAL SIGN         1   \n",
       "525293  538166     21915             RED  HARMONICA IN BOX          5   \n",
       "525340  538168     22739  RIBBON REEL CHRISTMAS SOCK BAUBLE         5   \n",
       "\n",
       "               InvoiceDate  Price  Customer ID         Country  \n",
       "371    2009-12-01 11:34:00   3.75      16329.0  United Kingdom  \n",
       "383    2009-12-01 11:34:00   0.85      16329.0  United Kingdom  \n",
       "384    2009-12-01 11:34:00   0.65      16329.0  United Kingdom  \n",
       "385    2009-12-01 11:34:00   3.75      16329.0  United Kingdom  \n",
       "386    2009-12-01 11:34:00   3.75      16329.0  United Kingdom  \n",
       "...                    ...    ...          ...             ...  \n",
       "523258 2010-12-09 13:03:00   1.65      16065.0  United Kingdom  \n",
       "523356 2010-12-09 13:24:00   1.95      18041.0  United Kingdom  \n",
       "525170 2010-12-09 16:52:00   2.10      16907.0  United Kingdom  \n",
       "525293 2010-12-09 18:09:00   1.25      17965.0  United Kingdom  \n",
       "525340 2010-12-09 19:23:00   1.65      14702.0  United Kingdom  \n",
       "\n",
       "[6841 rows x 8 columns]"
      ]
     },
     "execution_count": 10,
     "metadata": {},
     "output_type": "execute_result"
    }
   ],
   "source": [
    "#Find duplicates\n",
    "df[df.duplicated()]"
   ]
  },
  {
   "cell_type": "markdown",
   "id": "9f7b84af",
   "metadata": {
    "id": "OD3fIof5yOzC",
    "papermill": {
     "duration": 0.076022,
     "end_time": "2021-10-26T02:51:40.895737",
     "exception": false,
     "start_time": "2021-10-26T02:51:40.819715",
     "status": "completed"
    },
    "tags": []
   },
   "source": [
    "6841 number of duplicate rows"
   ]
  },
  {
   "cell_type": "code",
   "execution_count": 11,
   "id": "fe00b00d",
   "metadata": {
    "execution": {
     "iopub.execute_input": "2021-10-26T02:51:41.049759Z",
     "iopub.status.busy": "2021-10-26T02:51:41.048899Z",
     "iopub.status.idle": "2021-10-26T02:51:41.346469Z",
     "shell.execute_reply": "2021-10-26T02:51:41.347012Z",
     "shell.execute_reply.started": "2021-10-26T02:33:23.189849Z"
    },
    "id": "Jl8-8ifAv_O1",
    "papermill": {
     "duration": 0.376152,
     "end_time": "2021-10-26T02:51:41.347181",
     "exception": false,
     "start_time": "2021-10-26T02:51:40.971029",
     "status": "completed"
    },
    "tags": []
   },
   "outputs": [],
   "source": [
    "# Drop duplicates\n",
    "df.drop_duplicates(inplace=True)"
   ]
  },
  {
   "cell_type": "code",
   "execution_count": 12,
   "id": "58476988",
   "metadata": {
    "execution": {
     "iopub.execute_input": "2021-10-26T02:51:41.501624Z",
     "iopub.status.busy": "2021-10-26T02:51:41.500941Z",
     "iopub.status.idle": "2021-10-26T02:51:41.504772Z",
     "shell.execute_reply": "2021-10-26T02:51:41.504115Z",
     "shell.execute_reply.started": "2021-10-26T02:33:23.490881Z"
    },
    "id": "RGf-aH71xuOt",
    "outputId": "5bf92a9b-76df-4306-98b2-af8e9a811178",
    "papermill": {
     "duration": 0.082991,
     "end_time": "2021-10-26T02:51:41.504909",
     "exception": false,
     "start_time": "2021-10-26T02:51:41.421918",
     "status": "completed"
    },
    "tags": []
   },
   "outputs": [
    {
     "data": {
      "text/plain": [
       "(506291, 8)"
      ]
     },
     "execution_count": 12,
     "metadata": {},
     "output_type": "execute_result"
    }
   ],
   "source": [
    "df.shape"
   ]
  },
  {
   "cell_type": "code",
   "execution_count": 13,
   "id": "d5de34d5",
   "metadata": {
    "execution": {
     "iopub.execute_input": "2021-10-26T02:51:41.665987Z",
     "iopub.status.busy": "2021-10-26T02:51:41.665305Z",
     "iopub.status.idle": "2021-10-26T02:51:41.945011Z",
     "shell.execute_reply": "2021-10-26T02:51:41.945491Z",
     "shell.execute_reply.started": "2021-10-26T02:33:23.499095Z"
    },
    "id": "QGsvDpP5xwew",
    "outputId": "7a3cd6c0-1596-4d80-fece-88d081c9be9e",
    "papermill": {
     "duration": 0.365247,
     "end_time": "2021-10-26T02:51:41.945664",
     "exception": false,
     "start_time": "2021-10-26T02:51:41.580417",
     "status": "completed"
    },
    "tags": []
   },
   "outputs": [
    {
     "data": {
      "text/html": [
       "<div>\n",
       "<style scoped>\n",
       "    .dataframe tbody tr th:only-of-type {\n",
       "        vertical-align: middle;\n",
       "    }\n",
       "\n",
       "    .dataframe tbody tr th {\n",
       "        vertical-align: top;\n",
       "    }\n",
       "\n",
       "    .dataframe thead th {\n",
       "        text-align: right;\n",
       "    }\n",
       "</style>\n",
       "<table border=\"1\" class=\"dataframe\">\n",
       "  <thead>\n",
       "    <tr style=\"text-align: right;\">\n",
       "      <th></th>\n",
       "      <th>Invoice</th>\n",
       "      <th>StockCode</th>\n",
       "      <th>Description</th>\n",
       "      <th>Quantity</th>\n",
       "      <th>InvoiceDate</th>\n",
       "      <th>Price</th>\n",
       "      <th>Customer ID</th>\n",
       "      <th>Country</th>\n",
       "    </tr>\n",
       "  </thead>\n",
       "  <tbody>\n",
       "  </tbody>\n",
       "</table>\n",
       "</div>"
      ],
      "text/plain": [
       "Empty DataFrame\n",
       "Columns: [Invoice, StockCode, Description, Quantity, InvoiceDate, Price, Customer ID, Country]\n",
       "Index: []"
      ]
     },
     "execution_count": 13,
     "metadata": {},
     "output_type": "execute_result"
    }
   ],
   "source": [
    "# No duplicates left\n",
    "df[df.duplicated()]"
   ]
  },
  {
   "cell_type": "code",
   "execution_count": 14,
   "id": "91e0eaad",
   "metadata": {
    "execution": {
     "iopub.execute_input": "2021-10-26T02:51:42.101296Z",
     "iopub.status.busy": "2021-10-26T02:51:42.100612Z",
     "iopub.status.idle": "2021-10-26T02:51:42.339720Z",
     "shell.execute_reply": "2021-10-26T02:51:42.340230Z",
     "shell.execute_reply.started": "2021-10-26T02:33:23.797757Z"
    },
    "id": "khrSMXuzn6np",
    "outputId": "3752ceda-a139-4eed-c0b6-12682a88c250",
    "papermill": {
     "duration": 0.318832,
     "end_time": "2021-10-26T02:51:42.340435",
     "exception": false,
     "start_time": "2021-10-26T02:51:42.021603",
     "status": "completed"
    },
    "tags": []
   },
   "outputs": [
    {
     "name": "stdout",
     "output_type": "stream",
     "text": [
      "<class 'pandas.core.frame.DataFrame'>\n",
      "Int64Index: 506291 entries, 0 to 525460\n",
      "Data columns (total 8 columns):\n",
      " #   Column       Non-Null Count   Dtype         \n",
      "---  ------       --------------   -----         \n",
      " 0   Invoice      506291 non-null  object        \n",
      " 1   StockCode    506291 non-null  object        \n",
      " 2   Description  505190 non-null  object        \n",
      " 3   Quantity     506291 non-null  int64         \n",
      " 4   InvoiceDate  506291 non-null  datetime64[ns]\n",
      " 5   Price        506291 non-null  float64       \n",
      " 6   Customer ID  400947 non-null  float64       \n",
      " 7   Country      506291 non-null  object        \n",
      "dtypes: datetime64[ns](1), float64(2), int64(1), object(4)\n",
      "memory usage: 34.8+ MB\n"
     ]
    }
   ],
   "source": [
    "df.info()"
   ]
  },
  {
   "cell_type": "markdown",
   "id": "6289fb9b",
   "metadata": {
    "id": "_6KNOStfoPYW",
    "papermill": {
     "duration": 0.075466,
     "end_time": "2021-10-26T02:51:42.491877",
     "exception": false,
     "start_time": "2021-10-26T02:51:42.416411",
     "status": "completed"
    },
    "tags": []
   },
   "source": [
    "We have some missing values in `Description` & `CustomerID`"
   ]
  },
  {
   "cell_type": "markdown",
   "id": "7b89486a",
   "metadata": {
    "id": "GdUC9DnjZM9h",
    "papermill": {
     "duration": 0.075375,
     "end_time": "2021-10-26T02:51:42.643342",
     "exception": false,
     "start_time": "2021-10-26T02:51:42.567967",
     "status": "completed"
    },
    "tags": []
   },
   "source": [
    "#### missing values"
   ]
  },
  {
   "cell_type": "code",
   "execution_count": 15,
   "id": "29eb2ecd",
   "metadata": {
    "execution": {
     "iopub.execute_input": "2021-10-26T02:51:42.801067Z",
     "iopub.status.busy": "2021-10-26T02:51:42.799193Z",
     "iopub.status.idle": "2021-10-26T02:51:43.034694Z",
     "shell.execute_reply": "2021-10-26T02:51:43.035159Z",
     "shell.execute_reply.started": "2021-10-26T02:33:24.045380Z"
    },
    "id": "nLEmfWQxougy",
    "outputId": "71ce19fb-7192-4c1f-dd62-5738f813c3b9",
    "papermill": {
     "duration": 0.315815,
     "end_time": "2021-10-26T02:51:43.035350",
     "exception": false,
     "start_time": "2021-10-26T02:51:42.719535",
     "status": "completed"
    },
    "tags": []
   },
   "outputs": [
    {
     "data": {
      "text/plain": [
       "Invoice             0\n",
       "StockCode           0\n",
       "Description      1101\n",
       "Quantity            0\n",
       "InvoiceDate         0\n",
       "Price               0\n",
       "Customer ID    105344\n",
       "Country             0\n",
       "dtype: int64"
      ]
     },
     "execution_count": 15,
     "metadata": {},
     "output_type": "execute_result"
    }
   ],
   "source": [
    "df.isnull().sum()"
   ]
  },
  {
   "cell_type": "markdown",
   "id": "ea15da98",
   "metadata": {
    "id": "HMF63xHHp8pd",
    "papermill": {
     "duration": 0.076651,
     "end_time": "2021-10-26T02:51:43.188409",
     "exception": false,
     "start_time": "2021-10-26T02:51:43.111758",
     "status": "completed"
    },
    "tags": []
   },
   "source": [
    "***Description***"
   ]
  },
  {
   "cell_type": "code",
   "execution_count": 16,
   "id": "36a649f0",
   "metadata": {
    "execution": {
     "iopub.execute_input": "2021-10-26T02:51:43.344232Z",
     "iopub.status.busy": "2021-10-26T02:51:43.343579Z",
     "iopub.status.idle": "2021-10-26T02:51:43.403979Z",
     "shell.execute_reply": "2021-10-26T02:51:43.404855Z",
     "shell.execute_reply.started": "2021-10-26T02:33:24.282916Z"
    },
    "id": "zI-rwXOBmXRe",
    "outputId": "ef8a98c0-3356-4cd7-abe4-45822f0a9870",
    "papermill": {
     "duration": 0.140722,
     "end_time": "2021-10-26T02:51:43.405235",
     "exception": false,
     "start_time": "2021-10-26T02:51:43.264513",
     "status": "completed"
    },
    "tags": []
   },
   "outputs": [
    {
     "name": "stdout",
     "output_type": "stream",
     "text": [
      "NULL values in description: 1101\n"
     ]
    }
   ],
   "source": [
    "print('NULL values in description:',df['Description'].isnull().sum())"
   ]
  },
  {
   "cell_type": "code",
   "execution_count": 17,
   "id": "862cde5e",
   "metadata": {
    "execution": {
     "iopub.execute_input": "2021-10-26T02:51:43.563767Z",
     "iopub.status.busy": "2021-10-26T02:51:43.563072Z",
     "iopub.status.idle": "2021-10-26T02:51:43.640873Z",
     "shell.execute_reply": "2021-10-26T02:51:43.640360Z",
     "shell.execute_reply.started": "2021-10-26T02:33:24.346435Z"
    },
    "id": "-0lCgtDVnKKN",
    "outputId": "6109d9f8-75af-4e72-d3c0-79f6c154ec32",
    "papermill": {
     "duration": 0.157796,
     "end_time": "2021-10-26T02:51:43.641015",
     "exception": false,
     "start_time": "2021-10-26T02:51:43.483219",
     "status": "completed"
    },
    "tags": []
   },
   "outputs": [
    {
     "data": {
      "text/html": [
       "<div>\n",
       "<style scoped>\n",
       "    .dataframe tbody tr th:only-of-type {\n",
       "        vertical-align: middle;\n",
       "    }\n",
       "\n",
       "    .dataframe tbody tr th {\n",
       "        vertical-align: top;\n",
       "    }\n",
       "\n",
       "    .dataframe thead th {\n",
       "        text-align: right;\n",
       "    }\n",
       "</style>\n",
       "<table border=\"1\" class=\"dataframe\">\n",
       "  <thead>\n",
       "    <tr style=\"text-align: right;\">\n",
       "      <th></th>\n",
       "      <th>Invoice</th>\n",
       "      <th>StockCode</th>\n",
       "      <th>Description</th>\n",
       "      <th>Quantity</th>\n",
       "      <th>InvoiceDate</th>\n",
       "      <th>Price</th>\n",
       "      <th>Customer ID</th>\n",
       "      <th>Country</th>\n",
       "    </tr>\n",
       "  </thead>\n",
       "  <tbody>\n",
       "    <tr>\n",
       "      <th>3161</th>\n",
       "      <td>489659</td>\n",
       "      <td>21350</td>\n",
       "      <td>NaN</td>\n",
       "      <td>230</td>\n",
       "      <td>2009-12-01 17:39:00</td>\n",
       "      <td>0.0</td>\n",
       "      <td>NaN</td>\n",
       "      <td>United Kingdom</td>\n",
       "    </tr>\n",
       "    <tr>\n",
       "      <th>3731</th>\n",
       "      <td>489781</td>\n",
       "      <td>84292</td>\n",
       "      <td>NaN</td>\n",
       "      <td>17</td>\n",
       "      <td>2009-12-02 11:45:00</td>\n",
       "      <td>0.0</td>\n",
       "      <td>NaN</td>\n",
       "      <td>United Kingdom</td>\n",
       "    </tr>\n",
       "    <tr>\n",
       "      <th>6378</th>\n",
       "      <td>489882</td>\n",
       "      <td>35751C</td>\n",
       "      <td>NaN</td>\n",
       "      <td>12</td>\n",
       "      <td>2009-12-02 16:22:00</td>\n",
       "      <td>0.0</td>\n",
       "      <td>NaN</td>\n",
       "      <td>United Kingdom</td>\n",
       "    </tr>\n",
       "    <tr>\n",
       "      <th>6555</th>\n",
       "      <td>489898</td>\n",
       "      <td>79323G</td>\n",
       "      <td>NaN</td>\n",
       "      <td>954</td>\n",
       "      <td>2009-12-03 09:40:00</td>\n",
       "      <td>0.0</td>\n",
       "      <td>NaN</td>\n",
       "      <td>United Kingdom</td>\n",
       "    </tr>\n",
       "    <tr>\n",
       "      <th>6581</th>\n",
       "      <td>489903</td>\n",
       "      <td>21166</td>\n",
       "      <td>NaN</td>\n",
       "      <td>48</td>\n",
       "      <td>2009-12-03 09:57:00</td>\n",
       "      <td>0.0</td>\n",
       "      <td>NaN</td>\n",
       "      <td>United Kingdom</td>\n",
       "    </tr>\n",
       "    <tr>\n",
       "      <th>...</th>\n",
       "      <td>...</td>\n",
       "      <td>...</td>\n",
       "      <td>...</td>\n",
       "      <td>...</td>\n",
       "      <td>...</td>\n",
       "      <td>...</td>\n",
       "      <td>...</td>\n",
       "      <td>...</td>\n",
       "    </tr>\n",
       "    <tr>\n",
       "      <th>524728</th>\n",
       "      <td>538142</td>\n",
       "      <td>84247C</td>\n",
       "      <td>NaN</td>\n",
       "      <td>1</td>\n",
       "      <td>2010-12-09 15:58:00</td>\n",
       "      <td>0.0</td>\n",
       "      <td>NaN</td>\n",
       "      <td>United Kingdom</td>\n",
       "    </tr>\n",
       "    <tr>\n",
       "      <th>524729</th>\n",
       "      <td>538144</td>\n",
       "      <td>90042B</td>\n",
       "      <td>NaN</td>\n",
       "      <td>1</td>\n",
       "      <td>2010-12-09 15:58:00</td>\n",
       "      <td>0.0</td>\n",
       "      <td>NaN</td>\n",
       "      <td>United Kingdom</td>\n",
       "    </tr>\n",
       "    <tr>\n",
       "      <th>524730</th>\n",
       "      <td>538141</td>\n",
       "      <td>22218</td>\n",
       "      <td>NaN</td>\n",
       "      <td>2</td>\n",
       "      <td>2010-12-09 15:58:00</td>\n",
       "      <td>0.0</td>\n",
       "      <td>NaN</td>\n",
       "      <td>United Kingdom</td>\n",
       "    </tr>\n",
       "    <tr>\n",
       "      <th>524731</th>\n",
       "      <td>538143</td>\n",
       "      <td>84534B</td>\n",
       "      <td>NaN</td>\n",
       "      <td>1</td>\n",
       "      <td>2010-12-09 15:58:00</td>\n",
       "      <td>0.0</td>\n",
       "      <td>NaN</td>\n",
       "      <td>United Kingdom</td>\n",
       "    </tr>\n",
       "    <tr>\n",
       "      <th>525233</th>\n",
       "      <td>538160</td>\n",
       "      <td>20956</td>\n",
       "      <td>NaN</td>\n",
       "      <td>288</td>\n",
       "      <td>2010-12-09 17:18:00</td>\n",
       "      <td>0.0</td>\n",
       "      <td>NaN</td>\n",
       "      <td>United Kingdom</td>\n",
       "    </tr>\n",
       "  </tbody>\n",
       "</table>\n",
       "<p>1101 rows × 8 columns</p>\n",
       "</div>"
      ],
      "text/plain": [
       "       Invoice StockCode Description  Quantity         InvoiceDate  Price  \\\n",
       "3161    489659     21350         NaN       230 2009-12-01 17:39:00    0.0   \n",
       "3731    489781     84292         NaN        17 2009-12-02 11:45:00    0.0   \n",
       "6378    489882    35751C         NaN        12 2009-12-02 16:22:00    0.0   \n",
       "6555    489898    79323G         NaN       954 2009-12-03 09:40:00    0.0   \n",
       "6581    489903     21166         NaN        48 2009-12-03 09:57:00    0.0   \n",
       "...        ...       ...         ...       ...                 ...    ...   \n",
       "524728  538142    84247C         NaN         1 2010-12-09 15:58:00    0.0   \n",
       "524729  538144    90042B         NaN         1 2010-12-09 15:58:00    0.0   \n",
       "524730  538141     22218         NaN         2 2010-12-09 15:58:00    0.0   \n",
       "524731  538143    84534B         NaN         1 2010-12-09 15:58:00    0.0   \n",
       "525233  538160     20956         NaN       288 2010-12-09 17:18:00    0.0   \n",
       "\n",
       "        Customer ID         Country  \n",
       "3161            NaN  United Kingdom  \n",
       "3731            NaN  United Kingdom  \n",
       "6378            NaN  United Kingdom  \n",
       "6555            NaN  United Kingdom  \n",
       "6581            NaN  United Kingdom  \n",
       "...             ...             ...  \n",
       "524728          NaN  United Kingdom  \n",
       "524729          NaN  United Kingdom  \n",
       "524730          NaN  United Kingdom  \n",
       "524731          NaN  United Kingdom  \n",
       "525233          NaN  United Kingdom  \n",
       "\n",
       "[1101 rows x 8 columns]"
      ]
     },
     "execution_count": 17,
     "metadata": {},
     "output_type": "execute_result"
    }
   ],
   "source": [
    "df[(df['Description'].isnull()) & (df['Customer ID'].isnull()) & (df['Price']==0.0)]"
   ]
  },
  {
   "cell_type": "markdown",
   "id": "adb7311f",
   "metadata": {
    "id": "jJt2krzcqD7S",
    "papermill": {
     "duration": 0.079965,
     "end_time": "2021-10-26T02:51:43.798827",
     "exception": false,
     "start_time": "2021-10-26T02:51:43.718862",
     "status": "completed"
    },
    "tags": []
   },
   "source": [
    "These 1101 rows have `NO Description`,  `Price=0` &  `Customer ID='NaN'`. So, these rows are not useful to us. So, delete these rows."
   ]
  },
  {
   "cell_type": "code",
   "execution_count": 18,
   "id": "dc2cdf64",
   "metadata": {
    "execution": {
     "iopub.execute_input": "2021-10-26T02:51:44.014749Z",
     "iopub.status.busy": "2021-10-26T02:51:44.013577Z",
     "iopub.status.idle": "2021-10-26T02:51:44.081554Z",
     "shell.execute_reply": "2021-10-26T02:51:44.080934Z",
     "shell.execute_reply.started": "2021-10-26T02:33:24.428449Z"
    },
    "id": "0oZJaXKxqf8p",
    "papermill": {
     "duration": 0.205535,
     "end_time": "2021-10-26T02:51:44.081700",
     "exception": false,
     "start_time": "2021-10-26T02:51:43.876165",
     "status": "completed"
    },
    "tags": []
   },
   "outputs": [],
   "source": [
    "df = df.drop(df[(df['Description'].isnull()) & (df['Customer ID'].isnull()) & (df['Price']==0.0)].index)"
   ]
  },
  {
   "cell_type": "code",
   "execution_count": 19,
   "id": "7058035c",
   "metadata": {
    "execution": {
     "iopub.execute_input": "2021-10-26T02:51:44.240019Z",
     "iopub.status.busy": "2021-10-26T02:51:44.239352Z",
     "iopub.status.idle": "2021-10-26T02:51:44.305143Z",
     "shell.execute_reply": "2021-10-26T02:51:44.304633Z",
     "shell.execute_reply.started": "2021-10-26T02:33:24.557283Z"
    },
    "id": "cxkwNA2QqCvU",
    "outputId": "5f959668-2613-4f91-ddbd-66cf17ac39b9",
    "papermill": {
     "duration": 0.146143,
     "end_time": "2021-10-26T02:51:44.305312",
     "exception": false,
     "start_time": "2021-10-26T02:51:44.159169",
     "status": "completed"
    },
    "tags": []
   },
   "outputs": [
    {
     "data": {
      "text/plain": [
       "United Kingdom          467052\n",
       "EIRE                      9451\n",
       "Germany                   7652\n",
       "France                    5514\n",
       "Netherlands               2729\n",
       "Spain                     1228\n",
       "Switzerland               1170\n",
       "Portugal                  1058\n",
       "Belgium                   1037\n",
       "Sweden                     886\n",
       "Channel Islands            821\n",
       "Italy                      708\n",
       "Australia                  630\n",
       "Cyprus                     533\n",
       "Austria                    524\n",
       "Greece                     512\n",
       "Denmark                    418\n",
       "United Arab Emirates       399\n",
       "Norway                     365\n",
       "Finland                    347\n",
       "Unspecified                306\n",
       "USA                        230\n",
       "Poland                     182\n",
       "Malta                      170\n",
       "Japan                      164\n",
       "Lithuania                  154\n",
       "Singapore                  117\n",
       "RSA                        110\n",
       "Bahrain                    106\n",
       "Canada                      77\n",
       "Thailand                    76\n",
       "Hong Kong                   74\n",
       "Israel                      74\n",
       "Iceland                     71\n",
       "Brazil                      62\n",
       "West Indies                 54\n",
       "Korea                       53\n",
       "Bermuda                     34\n",
       "Nigeria                     30\n",
       "Lebanon                     12\n",
       "Name: Country, dtype: int64"
      ]
     },
     "execution_count": 19,
     "metadata": {},
     "output_type": "execute_result"
    }
   ],
   "source": [
    "# All types of Country\n",
    "df['Country'].value_counts()"
   ]
  },
  {
   "cell_type": "code",
   "execution_count": 20,
   "id": "40cd1adc",
   "metadata": {
    "execution": {
     "iopub.execute_input": "2021-10-26T02:51:44.465723Z",
     "iopub.status.busy": "2021-10-26T02:51:44.465031Z",
     "iopub.status.idle": "2021-10-26T02:51:44.477642Z",
     "shell.execute_reply": "2021-10-26T02:51:44.478221Z",
     "shell.execute_reply.started": "2021-10-26T02:33:24.625260Z"
    },
    "id": "jZSVDM-4x3Wv",
    "outputId": "932eef14-f1cf-4fc3-e19c-ee968d689948",
    "papermill": {
     "duration": 0.094799,
     "end_time": "2021-10-26T02:51:44.478427",
     "exception": false,
     "start_time": "2021-10-26T02:51:44.383628",
     "status": "completed"
    },
    "tags": []
   },
   "outputs": [
    {
     "data": {
      "text/plain": [
       "4314"
      ]
     },
     "execution_count": 20,
     "metadata": {},
     "output_type": "execute_result"
    }
   ],
   "source": [
    "# number of unique customers after removing Nan values\n",
    "len(df['Customer ID'].dropna().unique())"
   ]
  },
  {
   "cell_type": "markdown",
   "id": "125c727d",
   "metadata": {
    "id": "w45LMJo6yh1n",
    "papermill": {
     "duration": 0.077334,
     "end_time": "2021-10-26T02:51:44.634089",
     "exception": false,
     "start_time": "2021-10-26T02:51:44.556755",
     "status": "completed"
    },
    "tags": []
   },
   "source": [
    "So, there are 4314 Customers coming to the Retail store"
   ]
  },
  {
   "cell_type": "code",
   "execution_count": 21,
   "id": "077189a1",
   "metadata": {
    "execution": {
     "iopub.execute_input": "2021-10-26T02:51:44.925235Z",
     "iopub.status.busy": "2021-10-26T02:51:44.794180Z",
     "iopub.status.idle": "2021-10-26T02:51:46.069919Z",
     "shell.execute_reply": "2021-10-26T02:51:46.070409Z",
     "shell.execute_reply.started": "2021-10-26T02:33:24.646527Z"
    },
    "id": "6dBAFA5b3uFW",
    "outputId": "2357cb4f-40e7-4d43-e8f9-2a2b57193c02",
    "papermill": {
     "duration": 1.357767,
     "end_time": "2021-10-26T02:51:46.070591",
     "exception": false,
     "start_time": "2021-10-26T02:51:44.712824",
     "status": "completed"
    },
    "tags": []
   },
   "outputs": [
    {
     "data": {
      "text/plain": [
       "Timestamp('2009-12-01 07:45:00')"
      ]
     },
     "execution_count": 21,
     "metadata": {},
     "output_type": "execute_result"
    }
   ],
   "source": [
    "min(df['InvoiceDate'])"
   ]
  },
  {
   "cell_type": "code",
   "execution_count": 22,
   "id": "e636de6b",
   "metadata": {
    "execution": {
     "iopub.execute_input": "2021-10-26T02:51:46.336829Z",
     "iopub.status.busy": "2021-10-26T02:51:46.243108Z",
     "iopub.status.idle": "2021-10-26T02:51:47.432920Z",
     "shell.execute_reply": "2021-10-26T02:51:47.432166Z",
     "shell.execute_reply.started": "2021-10-26T02:33:25.853573Z"
    },
    "id": "9soBPIHW4Fci",
    "outputId": "56e81918-1385-49cc-86d1-b75d48f35222",
    "papermill": {
     "duration": 1.284294,
     "end_time": "2021-10-26T02:51:47.433073",
     "exception": false,
     "start_time": "2021-10-26T02:51:46.148779",
     "status": "completed"
    },
    "tags": []
   },
   "outputs": [
    {
     "data": {
      "text/plain": [
       "Timestamp('2010-12-09 20:01:00')"
      ]
     },
     "execution_count": 22,
     "metadata": {},
     "output_type": "execute_result"
    }
   ],
   "source": [
    "max(df['InvoiceDate'])"
   ]
  },
  {
   "cell_type": "markdown",
   "id": "067d0177",
   "metadata": {
    "id": "lOiilrbV4Jt3",
    "papermill": {
     "duration": 0.078123,
     "end_time": "2021-10-26T02:51:47.590115",
     "exception": false,
     "start_time": "2021-10-26T02:51:47.511992",
     "status": "completed"
    },
    "tags": []
   },
   "source": [
    "`This is a 4314 unique Customers data of almost 1 year from 1st Dec 2009 to 09th Dec 2010.`"
   ]
  },
  {
   "cell_type": "markdown",
   "id": "c6d8a9d1",
   "metadata": {
    "id": "49X4zR3B4z8I",
    "papermill": {
     "duration": 0.078582,
     "end_time": "2021-10-26T02:51:47.749657",
     "exception": false,
     "start_time": "2021-10-26T02:51:47.671075",
     "status": "completed"
    },
    "tags": []
   },
   "source": [
    "#### Let's try to Segment Customers according to country"
   ]
  },
  {
   "cell_type": "code",
   "execution_count": 23,
   "id": "805c2eac",
   "metadata": {
    "execution": {
     "iopub.execute_input": "2021-10-26T02:51:47.915055Z",
     "iopub.status.busy": "2021-10-26T02:51:47.914390Z",
     "iopub.status.idle": "2021-10-26T02:51:48.049634Z",
     "shell.execute_reply": "2021-10-26T02:51:48.049011Z",
     "shell.execute_reply.started": "2021-10-26T02:33:27.129677Z"
    },
    "id": "-FfI7tpKP--6",
    "papermill": {
     "duration": 0.220064,
     "end_time": "2021-10-26T02:51:48.049793",
     "exception": false,
     "start_time": "2021-10-26T02:51:47.829729",
     "status": "completed"
    },
    "tags": []
   },
   "outputs": [],
   "source": [
    "cust_by_country=df[['Customer ID','Country']].dropna().drop_duplicates().groupby('Country').count()"
   ]
  },
  {
   "cell_type": "code",
   "execution_count": 24,
   "id": "b0d968c6",
   "metadata": {
    "execution": {
     "iopub.execute_input": "2021-10-26T02:51:48.211598Z",
     "iopub.status.busy": "2021-10-26T02:51:48.210969Z",
     "iopub.status.idle": "2021-10-26T02:51:48.215647Z",
     "shell.execute_reply": "2021-10-26T02:51:48.216152Z",
     "shell.execute_reply.started": "2021-10-26T02:33:27.260450Z"
    },
    "id": "0zxORzfYgca5",
    "papermill": {
     "duration": 0.087105,
     "end_time": "2021-10-26T02:51:48.216343",
     "exception": false,
     "start_time": "2021-10-26T02:51:48.129238",
     "status": "completed"
    },
    "tags": []
   },
   "outputs": [],
   "source": [
    "cust_by_country.sort_values(by='Customer ID',ascending=False,inplace=True)"
   ]
  },
  {
   "cell_type": "code",
   "execution_count": 25,
   "id": "46147f93",
   "metadata": {
    "execution": {
     "iopub.execute_input": "2021-10-26T02:51:48.376719Z",
     "iopub.status.busy": "2021-10-26T02:51:48.375962Z",
     "iopub.status.idle": "2021-10-26T02:51:48.379986Z",
     "shell.execute_reply": "2021-10-26T02:51:48.380533Z",
     "shell.execute_reply.started": "2021-10-26T02:33:27.266621Z"
    },
    "id": "B5vtAn7qk-_z",
    "papermill": {
     "duration": 0.085768,
     "end_time": "2021-10-26T02:51:48.380703",
     "exception": false,
     "start_time": "2021-10-26T02:51:48.294935",
     "status": "completed"
    },
    "tags": []
   },
   "outputs": [],
   "source": [
    "lbl=cust_by_country.sort_values(by='Customer ID',ascending=False).index"
   ]
  },
  {
   "cell_type": "code",
   "execution_count": 26,
   "id": "da510762",
   "metadata": {
    "execution": {
     "iopub.execute_input": "2021-10-26T02:51:48.541466Z",
     "iopub.status.busy": "2021-10-26T02:51:48.540825Z",
     "iopub.status.idle": "2021-10-26T02:51:48.545291Z",
     "shell.execute_reply": "2021-10-26T02:51:48.545826Z",
     "shell.execute_reply.started": "2021-10-26T02:33:27.282397Z"
    },
    "id": "UzEI31GSllr-",
    "outputId": "419ee505-f978-4102-9775-d2741e5fd2bf",
    "papermill": {
     "duration": 0.086149,
     "end_time": "2021-10-26T02:51:48.546001",
     "exception": false,
     "start_time": "2021-10-26T02:51:48.459852",
     "status": "completed"
    },
    "tags": []
   },
   "outputs": [
    {
     "data": {
      "text/plain": [
       "array(['United Kingdom', 'Germany', 'France', 'Spain', 'Netherlands',\n",
       "       'Portugal', 'Belgium', 'Sweden', 'Australia', 'Switzerland',\n",
       "       'Channel Islands', 'Italy', 'Austria', 'Denmark', 'Finland',\n",
       "       'Cyprus', 'USA', 'Japan', 'Norway', 'EIRE', 'Greece',\n",
       "       'Unspecified', 'United Arab Emirates', 'Poland', 'Korea', 'Israel',\n",
       "       'Bahrain', 'Thailand', 'Brazil', 'Canada', 'Iceland', 'RSA',\n",
       "       'Lithuania', 'Malta', 'Singapore', 'Nigeria', 'West Indies'],\n",
       "      dtype=object)"
      ]
     },
     "execution_count": 26,
     "metadata": {},
     "output_type": "execute_result"
    }
   ],
   "source": [
    "lbl.values"
   ]
  },
  {
   "cell_type": "code",
   "execution_count": 27,
   "id": "68be5b0d",
   "metadata": {
    "execution": {
     "iopub.execute_input": "2021-10-26T02:51:48.708234Z",
     "iopub.status.busy": "2021-10-26T02:51:48.707548Z",
     "iopub.status.idle": "2021-10-26T02:51:48.717053Z",
     "shell.execute_reply": "2021-10-26T02:51:48.717595Z",
     "shell.execute_reply.started": "2021-10-26T02:39:16.316175Z"
    },
    "papermill": {
     "duration": 0.092715,
     "end_time": "2021-10-26T02:51:48.717768",
     "exception": false,
     "start_time": "2021-10-26T02:51:48.625053",
     "status": "completed"
    },
    "tags": []
   },
   "outputs": [
    {
     "data": {
      "text/html": [
       "<div>\n",
       "<style scoped>\n",
       "    .dataframe tbody tr th:only-of-type {\n",
       "        vertical-align: middle;\n",
       "    }\n",
       "\n",
       "    .dataframe tbody tr th {\n",
       "        vertical-align: top;\n",
       "    }\n",
       "\n",
       "    .dataframe thead th {\n",
       "        text-align: right;\n",
       "    }\n",
       "</style>\n",
       "<table border=\"1\" class=\"dataframe\">\n",
       "  <thead>\n",
       "    <tr style=\"text-align: right;\">\n",
       "      <th></th>\n",
       "      <th>Customer ID</th>\n",
       "    </tr>\n",
       "    <tr>\n",
       "      <th>Country</th>\n",
       "      <th></th>\n",
       "    </tr>\n",
       "  </thead>\n",
       "  <tbody>\n",
       "    <tr>\n",
       "      <th>United Kingdom</th>\n",
       "      <td>3971</td>\n",
       "    </tr>\n",
       "    <tr>\n",
       "      <th>Germany</th>\n",
       "      <td>67</td>\n",
       "    </tr>\n",
       "    <tr>\n",
       "      <th>France</th>\n",
       "      <td>47</td>\n",
       "    </tr>\n",
       "    <tr>\n",
       "      <th>Spain</th>\n",
       "      <td>25</td>\n",
       "    </tr>\n",
       "    <tr>\n",
       "      <th>Netherlands</th>\n",
       "      <td>22</td>\n",
       "    </tr>\n",
       "    <tr>\n",
       "      <th>Portugal</th>\n",
       "      <td>18</td>\n",
       "    </tr>\n",
       "    <tr>\n",
       "      <th>Belgium</th>\n",
       "      <td>17</td>\n",
       "    </tr>\n",
       "    <tr>\n",
       "      <th>Sweden</th>\n",
       "      <td>16</td>\n",
       "    </tr>\n",
       "    <tr>\n",
       "      <th>Australia</th>\n",
       "      <td>15</td>\n",
       "    </tr>\n",
       "    <tr>\n",
       "      <th>Switzerland</th>\n",
       "      <td>14</td>\n",
       "    </tr>\n",
       "    <tr>\n",
       "      <th>Italy</th>\n",
       "      <td>11</td>\n",
       "    </tr>\n",
       "    <tr>\n",
       "      <th>Channel Islands</th>\n",
       "      <td>11</td>\n",
       "    </tr>\n",
       "    <tr>\n",
       "      <th>Austria</th>\n",
       "      <td>10</td>\n",
       "    </tr>\n",
       "    <tr>\n",
       "      <th>Denmark</th>\n",
       "      <td>9</td>\n",
       "    </tr>\n",
       "    <tr>\n",
       "      <th>Finland</th>\n",
       "      <td>7</td>\n",
       "    </tr>\n",
       "    <tr>\n",
       "      <th>Cyprus</th>\n",
       "      <td>7</td>\n",
       "    </tr>\n",
       "    <tr>\n",
       "      <th>USA</th>\n",
       "      <td>6</td>\n",
       "    </tr>\n",
       "    <tr>\n",
       "      <th>Japan</th>\n",
       "      <td>6</td>\n",
       "    </tr>\n",
       "    <tr>\n",
       "      <th>EIRE</th>\n",
       "      <td>5</td>\n",
       "    </tr>\n",
       "    <tr>\n",
       "      <th>Norway</th>\n",
       "      <td>5</td>\n",
       "    </tr>\n",
       "    <tr>\n",
       "      <th>Greece</th>\n",
       "      <td>4</td>\n",
       "    </tr>\n",
       "    <tr>\n",
       "      <th>United Arab Emirates</th>\n",
       "      <td>4</td>\n",
       "    </tr>\n",
       "    <tr>\n",
       "      <th>Unspecified</th>\n",
       "      <td>4</td>\n",
       "    </tr>\n",
       "    <tr>\n",
       "      <th>Poland</th>\n",
       "      <td>2</td>\n",
       "    </tr>\n",
       "    <tr>\n",
       "      <th>Korea</th>\n",
       "      <td>2</td>\n",
       "    </tr>\n",
       "    <tr>\n",
       "      <th>Israel</th>\n",
       "      <td>2</td>\n",
       "    </tr>\n",
       "    <tr>\n",
       "      <th>Bahrain</th>\n",
       "      <td>2</td>\n",
       "    </tr>\n",
       "    <tr>\n",
       "      <th>Nigeria</th>\n",
       "      <td>1</td>\n",
       "    </tr>\n",
       "    <tr>\n",
       "      <th>RSA</th>\n",
       "      <td>1</td>\n",
       "    </tr>\n",
       "    <tr>\n",
       "      <th>Singapore</th>\n",
       "      <td>1</td>\n",
       "    </tr>\n",
       "    <tr>\n",
       "      <th>Malta</th>\n",
       "      <td>1</td>\n",
       "    </tr>\n",
       "    <tr>\n",
       "      <th>Lithuania</th>\n",
       "      <td>1</td>\n",
       "    </tr>\n",
       "    <tr>\n",
       "      <th>Thailand</th>\n",
       "      <td>1</td>\n",
       "    </tr>\n",
       "    <tr>\n",
       "      <th>Iceland</th>\n",
       "      <td>1</td>\n",
       "    </tr>\n",
       "    <tr>\n",
       "      <th>Canada</th>\n",
       "      <td>1</td>\n",
       "    </tr>\n",
       "    <tr>\n",
       "      <th>Brazil</th>\n",
       "      <td>1</td>\n",
       "    </tr>\n",
       "    <tr>\n",
       "      <th>West Indies</th>\n",
       "      <td>1</td>\n",
       "    </tr>\n",
       "  </tbody>\n",
       "</table>\n",
       "</div>"
      ],
      "text/plain": [
       "                      Customer ID\n",
       "Country                          \n",
       "United Kingdom               3971\n",
       "Germany                        67\n",
       "France                         47\n",
       "Spain                          25\n",
       "Netherlands                    22\n",
       "Portugal                       18\n",
       "Belgium                        17\n",
       "Sweden                         16\n",
       "Australia                      15\n",
       "Switzerland                    14\n",
       "Italy                          11\n",
       "Channel Islands                11\n",
       "Austria                        10\n",
       "Denmark                         9\n",
       "Finland                         7\n",
       "Cyprus                          7\n",
       "USA                             6\n",
       "Japan                           6\n",
       "EIRE                            5\n",
       "Norway                          5\n",
       "Greece                          4\n",
       "United Arab Emirates            4\n",
       "Unspecified                     4\n",
       "Poland                          2\n",
       "Korea                           2\n",
       "Israel                          2\n",
       "Bahrain                         2\n",
       "Nigeria                         1\n",
       "RSA                             1\n",
       "Singapore                       1\n",
       "Malta                           1\n",
       "Lithuania                       1\n",
       "Thailand                        1\n",
       "Iceland                         1\n",
       "Canada                          1\n",
       "Brazil                          1\n",
       "West Indies                     1"
      ]
     },
     "execution_count": 27,
     "metadata": {},
     "output_type": "execute_result"
    }
   ],
   "source": [
    "cust_by_country"
   ]
  },
  {
   "cell_type": "code",
   "execution_count": 28,
   "id": "61a45ae4",
   "metadata": {
    "execution": {
     "iopub.execute_input": "2021-10-26T02:51:48.901770Z",
     "iopub.status.busy": "2021-10-26T02:51:48.901100Z",
     "iopub.status.idle": "2021-10-26T02:51:49.620135Z",
     "shell.execute_reply": "2021-10-26T02:51:49.619424Z",
     "shell.execute_reply.started": "2021-10-26T02:39:48.756035Z"
    },
    "id": "DNt4ClsBjaHn",
    "outputId": "ed60d3f3-32a2-4b95-a5b7-05647bcc9951",
    "papermill": {
     "duration": 0.821931,
     "end_time": "2021-10-26T02:51:49.620301",
     "exception": false,
     "start_time": "2021-10-26T02:51:48.798370",
     "status": "completed"
    },
    "tags": []
   },
   "outputs": [
    {
     "data": {
      "image/png": "[encoded data removed]",
      "text/plain": [
       "<Figure size 720x720 with 1 Axes>"
      ]
     },
     "metadata": {},
     "output_type": "display_data"
    }
   ],
   "source": [
    "plt.figure(figsize=(10,10))\n",
    "plt.pie(cust_by_country['Customer ID'],labels=lbl.values,textprops={'fontsize': 8});\n",
    "plt.legend(loc='upper right')\n",
    "plt.show()"
   ]
  },
  {
   "cell_type": "markdown",
   "id": "d075564d",
   "metadata": {
    "id": "nbMc0JJsg2Hk",
    "papermill": {
     "duration": 0.081999,
     "end_time": "2021-10-26T02:51:49.788515",
     "exception": false,
     "start_time": "2021-10-26T02:51:49.706516",
     "status": "completed"
    },
    "tags": []
   },
   "source": [
    "## INFERENCE 1\n",
    "\n",
    "* This is a 4314 unique Customers data of almost 1 year from 1st Dec 2009 to 09th Dec 2010.\n",
    "* Majority of the customers is from United Kingdom.\n",
    "* What I got intuition from it is that either a store is situated in UK and some other countries people also live in UK so they are also customers that'why so less in numbers OR a store has its franchise in different countries but it's most popular in UK."
   ]
  },
  {
   "cell_type": "code",
   "execution_count": 29,
   "id": "8ab2488e",
   "metadata": {
    "execution": {
     "iopub.execute_input": "2021-10-26T02:51:49.959538Z",
     "iopub.status.busy": "2021-10-26T02:51:49.958852Z",
     "iopub.status.idle": "2021-10-26T02:51:50.020114Z",
     "shell.execute_reply": "2021-10-26T02:51:50.020666Z",
     "shell.execute_reply.started": "2021-10-26T02:40:00.568140Z"
    },
    "id": "Z-Wyqxu3_iZp",
    "outputId": "99515ca8-426c-4ded-b3b5-1560b3c86bf7",
    "papermill": {
     "duration": 0.147126,
     "end_time": "2021-10-26T02:51:50.020863",
     "exception": false,
     "start_time": "2021-10-26T02:51:49.873737",
     "status": "completed"
    },
    "tags": []
   },
   "outputs": [
    {
     "data": {
      "text/html": [
       "<div>\n",
       "<style scoped>\n",
       "    .dataframe tbody tr th:only-of-type {\n",
       "        vertical-align: middle;\n",
       "    }\n",
       "\n",
       "    .dataframe tbody tr th {\n",
       "        vertical-align: top;\n",
       "    }\n",
       "\n",
       "    .dataframe thead th {\n",
       "        text-align: right;\n",
       "    }\n",
       "</style>\n",
       "<table border=\"1\" class=\"dataframe\">\n",
       "  <thead>\n",
       "    <tr style=\"text-align: right;\">\n",
       "      <th></th>\n",
       "      <th>Quantity</th>\n",
       "      <th>Price</th>\n",
       "      <th>Customer ID</th>\n",
       "    </tr>\n",
       "  </thead>\n",
       "  <tbody>\n",
       "    <tr>\n",
       "      <th>count</th>\n",
       "      <td>505190.000000</td>\n",
       "      <td>505190.000000</td>\n",
       "      <td>400947.000000</td>\n",
       "    </tr>\n",
       "    <tr>\n",
       "      <th>mean</th>\n",
       "      <td>11.564956</td>\n",
       "      <td>4.270808</td>\n",
       "      <td>15361.454639</td>\n",
       "    </tr>\n",
       "    <tr>\n",
       "      <th>std</th>\n",
       "      <td>88.753421</td>\n",
       "      <td>64.064339</td>\n",
       "      <td>1680.669487</td>\n",
       "    </tr>\n",
       "    <tr>\n",
       "      <th>min</th>\n",
       "      <td>1.000000</td>\n",
       "      <td>0.000000</td>\n",
       "      <td>12346.000000</td>\n",
       "    </tr>\n",
       "    <tr>\n",
       "      <th>25%</th>\n",
       "      <td>1.000000</td>\n",
       "      <td>1.250000</td>\n",
       "      <td>13985.000000</td>\n",
       "    </tr>\n",
       "    <tr>\n",
       "      <th>50%</th>\n",
       "      <td>3.000000</td>\n",
       "      <td>2.100000</td>\n",
       "      <td>15311.000000</td>\n",
       "    </tr>\n",
       "    <tr>\n",
       "      <th>75%</th>\n",
       "      <td>12.000000</td>\n",
       "      <td>4.210000</td>\n",
       "      <td>16805.000000</td>\n",
       "    </tr>\n",
       "    <tr>\n",
       "      <th>max</th>\n",
       "      <td>19152.000000</td>\n",
       "      <td>25111.090000</td>\n",
       "      <td>18287.000000</td>\n",
       "    </tr>\n",
       "  </tbody>\n",
       "</table>\n",
       "</div>"
      ],
      "text/plain": [
       "            Quantity          Price    Customer ID\n",
       "count  505190.000000  505190.000000  400947.000000\n",
       "mean       11.564956       4.270808   15361.454639\n",
       "std        88.753421      64.064339    1680.669487\n",
       "min         1.000000       0.000000   12346.000000\n",
       "25%         1.000000       1.250000   13985.000000\n",
       "50%         3.000000       2.100000   15311.000000\n",
       "75%        12.000000       4.210000   16805.000000\n",
       "max     19152.000000   25111.090000   18287.000000"
      ]
     },
     "execution_count": 29,
     "metadata": {},
     "output_type": "execute_result"
    }
   ],
   "source": [
    "df.describe()"
   ]
  },
  {
   "cell_type": "code",
   "execution_count": 30,
   "id": "14ba588c",
   "metadata": {
    "execution": {
     "iopub.execute_input": "2021-10-26T02:51:50.192963Z",
     "iopub.status.busy": "2021-10-26T02:51:50.192261Z",
     "iopub.status.idle": "2021-10-26T02:51:50.212660Z",
     "shell.execute_reply": "2021-10-26T02:51:50.212107Z",
     "shell.execute_reply.started": "2021-10-26T02:40:00.636615Z"
    },
    "id": "qYKr-HguAxBc",
    "outputId": "3e1500da-a317-4921-b7d8-75f46826fc4a",
    "papermill": {
     "duration": 0.107381,
     "end_time": "2021-10-26T02:51:50.212795",
     "exception": false,
     "start_time": "2021-10-26T02:51:50.105414",
     "status": "completed"
    },
    "tags": []
   },
   "outputs": [
    {
     "data": {
      "text/html": [
       "<div>\n",
       "<style scoped>\n",
       "    .dataframe tbody tr th:only-of-type {\n",
       "        vertical-align: middle;\n",
       "    }\n",
       "\n",
       "    .dataframe tbody tr th {\n",
       "        vertical-align: top;\n",
       "    }\n",
       "\n",
       "    .dataframe thead th {\n",
       "        text-align: right;\n",
       "    }\n",
       "</style>\n",
       "<table border=\"1\" class=\"dataframe\">\n",
       "  <thead>\n",
       "    <tr style=\"text-align: right;\">\n",
       "      <th></th>\n",
       "      <th>Invoice</th>\n",
       "      <th>StockCode</th>\n",
       "      <th>Description</th>\n",
       "      <th>Quantity</th>\n",
       "      <th>InvoiceDate</th>\n",
       "      <th>Price</th>\n",
       "      <th>Customer ID</th>\n",
       "      <th>Country</th>\n",
       "    </tr>\n",
       "  </thead>\n",
       "  <tbody>\n",
       "    <tr>\n",
       "      <th>0</th>\n",
       "      <td>489434</td>\n",
       "      <td>85048</td>\n",
       "      <td>15CM CHRISTMAS GLASS BALL 20 LIGHTS</td>\n",
       "      <td>12</td>\n",
       "      <td>2009-12-01 07:45:00</td>\n",
       "      <td>6.95</td>\n",
       "      <td>13085.0</td>\n",
       "      <td>United Kingdom</td>\n",
       "    </tr>\n",
       "    <tr>\n",
       "      <th>1</th>\n",
       "      <td>489434</td>\n",
       "      <td>79323P</td>\n",
       "      <td>PINK CHERRY LIGHTS</td>\n",
       "      <td>12</td>\n",
       "      <td>2009-12-01 07:45:00</td>\n",
       "      <td>6.75</td>\n",
       "      <td>13085.0</td>\n",
       "      <td>United Kingdom</td>\n",
       "    </tr>\n",
       "    <tr>\n",
       "      <th>2</th>\n",
       "      <td>489434</td>\n",
       "      <td>79323W</td>\n",
       "      <td>WHITE CHERRY LIGHTS</td>\n",
       "      <td>12</td>\n",
       "      <td>2009-12-01 07:45:00</td>\n",
       "      <td>6.75</td>\n",
       "      <td>13085.0</td>\n",
       "      <td>United Kingdom</td>\n",
       "    </tr>\n",
       "    <tr>\n",
       "      <th>3</th>\n",
       "      <td>489434</td>\n",
       "      <td>22041</td>\n",
       "      <td>RECORD FRAME 7\" SINGLE SIZE</td>\n",
       "      <td>48</td>\n",
       "      <td>2009-12-01 07:45:00</td>\n",
       "      <td>2.10</td>\n",
       "      <td>13085.0</td>\n",
       "      <td>United Kingdom</td>\n",
       "    </tr>\n",
       "    <tr>\n",
       "      <th>4</th>\n",
       "      <td>489434</td>\n",
       "      <td>21232</td>\n",
       "      <td>STRAWBERRY CERAMIC TRINKET BOX</td>\n",
       "      <td>24</td>\n",
       "      <td>2009-12-01 07:45:00</td>\n",
       "      <td>1.25</td>\n",
       "      <td>13085.0</td>\n",
       "      <td>United Kingdom</td>\n",
       "    </tr>\n",
       "    <tr>\n",
       "      <th>...</th>\n",
       "      <td>...</td>\n",
       "      <td>...</td>\n",
       "      <td>...</td>\n",
       "      <td>...</td>\n",
       "      <td>...</td>\n",
       "      <td>...</td>\n",
       "      <td>...</td>\n",
       "      <td>...</td>\n",
       "    </tr>\n",
       "    <tr>\n",
       "      <th>525456</th>\n",
       "      <td>538171</td>\n",
       "      <td>22271</td>\n",
       "      <td>FELTCRAFT DOLL ROSIE</td>\n",
       "      <td>2</td>\n",
       "      <td>2010-12-09 20:01:00</td>\n",
       "      <td>2.95</td>\n",
       "      <td>17530.0</td>\n",
       "      <td>United Kingdom</td>\n",
       "    </tr>\n",
       "    <tr>\n",
       "      <th>525457</th>\n",
       "      <td>538171</td>\n",
       "      <td>22750</td>\n",
       "      <td>FELTCRAFT PRINCESS LOLA DOLL</td>\n",
       "      <td>1</td>\n",
       "      <td>2010-12-09 20:01:00</td>\n",
       "      <td>3.75</td>\n",
       "      <td>17530.0</td>\n",
       "      <td>United Kingdom</td>\n",
       "    </tr>\n",
       "    <tr>\n",
       "      <th>525458</th>\n",
       "      <td>538171</td>\n",
       "      <td>22751</td>\n",
       "      <td>FELTCRAFT PRINCESS OLIVIA DOLL</td>\n",
       "      <td>1</td>\n",
       "      <td>2010-12-09 20:01:00</td>\n",
       "      <td>3.75</td>\n",
       "      <td>17530.0</td>\n",
       "      <td>United Kingdom</td>\n",
       "    </tr>\n",
       "    <tr>\n",
       "      <th>525459</th>\n",
       "      <td>538171</td>\n",
       "      <td>20970</td>\n",
       "      <td>PINK FLORAL FELTCRAFT SHOULDER BAG</td>\n",
       "      <td>2</td>\n",
       "      <td>2010-12-09 20:01:00</td>\n",
       "      <td>3.75</td>\n",
       "      <td>17530.0</td>\n",
       "      <td>United Kingdom</td>\n",
       "    </tr>\n",
       "    <tr>\n",
       "      <th>525460</th>\n",
       "      <td>538171</td>\n",
       "      <td>21931</td>\n",
       "      <td>JUMBO STORAGE BAG SUKI</td>\n",
       "      <td>2</td>\n",
       "      <td>2010-12-09 20:01:00</td>\n",
       "      <td>1.95</td>\n",
       "      <td>17530.0</td>\n",
       "      <td>United Kingdom</td>\n",
       "    </tr>\n",
       "  </tbody>\n",
       "</table>\n",
       "<p>505190 rows × 8 columns</p>\n",
       "</div>"
      ],
      "text/plain": [
       "       Invoice StockCode                          Description  Quantity  \\\n",
       "0       489434     85048  15CM CHRISTMAS GLASS BALL 20 LIGHTS        12   \n",
       "1       489434    79323P                   PINK CHERRY LIGHTS        12   \n",
       "2       489434    79323W                  WHITE CHERRY LIGHTS        12   \n",
       "3       489434     22041         RECORD FRAME 7\" SINGLE SIZE         48   \n",
       "4       489434     21232       STRAWBERRY CERAMIC TRINKET BOX        24   \n",
       "...        ...       ...                                  ...       ...   \n",
       "525456  538171     22271                 FELTCRAFT DOLL ROSIE         2   \n",
       "525457  538171     22750         FELTCRAFT PRINCESS LOLA DOLL         1   \n",
       "525458  538171     22751       FELTCRAFT PRINCESS OLIVIA DOLL         1   \n",
       "525459  538171     20970   PINK FLORAL FELTCRAFT SHOULDER BAG         2   \n",
       "525460  538171     21931               JUMBO STORAGE BAG SUKI         2   \n",
       "\n",
       "               InvoiceDate  Price  Customer ID         Country  \n",
       "0      2009-12-01 07:45:00   6.95      13085.0  United Kingdom  \n",
       "1      2009-12-01 07:45:00   6.75      13085.0  United Kingdom  \n",
       "2      2009-12-01 07:45:00   6.75      13085.0  United Kingdom  \n",
       "3      2009-12-01 07:45:00   2.10      13085.0  United Kingdom  \n",
       "4      2009-12-01 07:45:00   1.25      13085.0  United Kingdom  \n",
       "...                    ...    ...          ...             ...  \n",
       "525456 2010-12-09 20:01:00   2.95      17530.0  United Kingdom  \n",
       "525457 2010-12-09 20:01:00   3.75      17530.0  United Kingdom  \n",
       "525458 2010-12-09 20:01:00   3.75      17530.0  United Kingdom  \n",
       "525459 2010-12-09 20:01:00   3.75      17530.0  United Kingdom  \n",
       "525460 2010-12-09 20:01:00   1.95      17530.0  United Kingdom  \n",
       "\n",
       "[505190 rows x 8 columns]"
      ]
     },
     "execution_count": 30,
     "metadata": {},
     "output_type": "execute_result"
    }
   ],
   "source": [
    "df"
   ]
  },
  {
   "cell_type": "markdown",
   "id": "2543a0a9",
   "metadata": {
    "id": "T8v7ilp5Hs9b",
    "papermill": {
     "duration": 0.082786,
     "end_time": "2021-10-26T02:51:50.378612",
     "exception": false,
     "start_time": "2021-10-26T02:51:50.295826",
     "status": "completed"
    },
    "tags": []
   },
   "source": [
    "## Segment Customers in (Rich, Middle class & Poor)"
   ]
  },
  {
   "cell_type": "markdown",
   "id": "963a4ac4",
   "metadata": {
    "id": "jquMO_BWLMDb",
    "papermill": {
     "duration": 0.083568,
     "end_time": "2021-10-26T02:51:50.546172",
     "exception": false,
     "start_time": "2021-10-26T02:51:50.462604",
     "status": "completed"
    },
    "tags": []
   },
   "source": [
    "* In 1 year of Span we will find the sum of Money spend by each Customer in Store and divide  our Target Customers accordingly which can be a Enhancing Factor to which type of Customer we should Promote which type of Products."
   ]
  },
  {
   "cell_type": "code",
   "execution_count": 31,
   "id": "2460b793",
   "metadata": {
    "execution": {
     "iopub.execute_input": "2021-10-26T02:51:50.718941Z",
     "iopub.status.busy": "2021-10-26T02:51:50.718163Z",
     "iopub.status.idle": "2021-10-26T02:51:50.764866Z",
     "shell.execute_reply": "2021-10-26T02:51:50.764313Z",
     "shell.execute_reply.started": "2021-10-26T02:40:00.659916Z"
    },
    "id": "F3lF562oJQ9d",
    "papermill": {
     "duration": 0.135998,
     "end_time": "2021-10-26T02:51:50.765029",
     "exception": false,
     "start_time": "2021-10-26T02:51:50.629031",
     "status": "completed"
    },
    "tags": []
   },
   "outputs": [],
   "source": [
    "price_segm=df.groupby('Customer ID').sum().sort_values(by='Price',ascending=False)"
   ]
  },
  {
   "cell_type": "code",
   "execution_count": 32,
   "id": "72ffd42f",
   "metadata": {
    "execution": {
     "iopub.execute_input": "2021-10-26T02:51:50.946507Z",
     "iopub.status.busy": "2021-10-26T02:51:50.945648Z",
     "iopub.status.idle": "2021-10-26T02:51:50.948398Z",
     "shell.execute_reply": "2021-10-26T02:51:50.947860Z",
     "shell.execute_reply.started": "2021-10-26T02:40:00.740756Z"
    },
    "id": "S4_atkNvc77G",
    "papermill": {
     "duration": 0.095177,
     "end_time": "2021-10-26T02:51:50.948543",
     "exception": false,
     "start_time": "2021-10-26T02:51:50.853366",
     "status": "completed"
    },
    "tags": []
   },
   "outputs": [],
   "source": [
    "price_segm.rename(columns={'Price':'Total Money spend by Customer'},inplace=True)"
   ]
  },
  {
   "cell_type": "code",
   "execution_count": 33,
   "id": "a635d26c",
   "metadata": {
    "execution": {
     "iopub.execute_input": "2021-10-26T02:51:51.128016Z",
     "iopub.status.busy": "2021-10-26T02:51:51.127212Z",
     "iopub.status.idle": "2021-10-26T02:51:51.139475Z",
     "shell.execute_reply": "2021-10-26T02:51:51.140076Z",
     "shell.execute_reply.started": "2021-10-26T02:40:00.748730Z"
    },
    "id": "CJkSdMPvNQga",
    "outputId": "94b52cb2-ca03-49e5-ff91-141277cc4257",
    "papermill": {
     "duration": 0.108027,
     "end_time": "2021-10-26T02:51:51.140244",
     "exception": false,
     "start_time": "2021-10-26T02:51:51.032217",
     "status": "completed"
    },
    "tags": []
   },
   "outputs": [
    {
     "data": {
      "text/html": [
       "<div>\n",
       "<style scoped>\n",
       "    .dataframe tbody tr th:only-of-type {\n",
       "        vertical-align: middle;\n",
       "    }\n",
       "\n",
       "    .dataframe tbody tr th {\n",
       "        vertical-align: top;\n",
       "    }\n",
       "\n",
       "    .dataframe thead th {\n",
       "        text-align: right;\n",
       "    }\n",
       "</style>\n",
       "<table border=\"1\" class=\"dataframe\">\n",
       "  <thead>\n",
       "    <tr style=\"text-align: right;\">\n",
       "      <th></th>\n",
       "      <th>Quantity</th>\n",
       "      <th>Total Money spend by Customer</th>\n",
       "    </tr>\n",
       "    <tr>\n",
       "      <th>Customer ID</th>\n",
       "      <th></th>\n",
       "      <th></th>\n",
       "    </tr>\n",
       "  </thead>\n",
       "  <tbody>\n",
       "    <tr>\n",
       "      <th>14911.0</th>\n",
       "      <td>69709</td>\n",
       "      <td>31560.54</td>\n",
       "    </tr>\n",
       "    <tr>\n",
       "      <th>14156.0</th>\n",
       "      <td>108105</td>\n",
       "      <td>18678.87</td>\n",
       "    </tr>\n",
       "    <tr>\n",
       "      <th>17841.0</th>\n",
       "      <td>14332</td>\n",
       "      <td>14943.25</td>\n",
       "    </tr>\n",
       "    <tr>\n",
       "      <th>15760.0</th>\n",
       "      <td>2</td>\n",
       "      <td>13916.34</td>\n",
       "    </tr>\n",
       "    <tr>\n",
       "      <th>14063.0</th>\n",
       "      <td>3850</td>\n",
       "      <td>13443.55</td>\n",
       "    </tr>\n",
       "    <tr>\n",
       "      <th>...</th>\n",
       "      <td>...</td>\n",
       "      <td>...</td>\n",
       "    </tr>\n",
       "    <tr>\n",
       "      <th>14900.0</th>\n",
       "      <td>48</td>\n",
       "      <td>0.29</td>\n",
       "    </tr>\n",
       "    <tr>\n",
       "      <th>14845.0</th>\n",
       "      <td>600</td>\n",
       "      <td>0.25</td>\n",
       "    </tr>\n",
       "    <tr>\n",
       "      <th>14033.0</th>\n",
       "      <td>576</td>\n",
       "      <td>0.19</td>\n",
       "    </tr>\n",
       "    <tr>\n",
       "      <th>14103.0</th>\n",
       "      <td>5</td>\n",
       "      <td>0.00</td>\n",
       "    </tr>\n",
       "    <tr>\n",
       "      <th>14827.0</th>\n",
       "      <td>5</td>\n",
       "      <td>0.00</td>\n",
       "    </tr>\n",
       "  </tbody>\n",
       "</table>\n",
       "<p>4314 rows × 2 columns</p>\n",
       "</div>"
      ],
      "text/plain": [
       "             Quantity  Total Money spend by Customer\n",
       "Customer ID                                         \n",
       "14911.0         69709                       31560.54\n",
       "14156.0        108105                       18678.87\n",
       "17841.0         14332                       14943.25\n",
       "15760.0             2                       13916.34\n",
       "14063.0          3850                       13443.55\n",
       "...               ...                            ...\n",
       "14900.0            48                           0.29\n",
       "14845.0           600                           0.25\n",
       "14033.0           576                           0.19\n",
       "14103.0             5                           0.00\n",
       "14827.0             5                           0.00\n",
       "\n",
       "[4314 rows x 2 columns]"
      ]
     },
     "execution_count": 33,
     "metadata": {},
     "output_type": "execute_result"
    }
   ],
   "source": [
    "price_segm"
   ]
  },
  {
   "cell_type": "markdown",
   "id": "3a7be17a",
   "metadata": {
    "id": "7pC8qZpsJgJ7",
    "papermill": {
     "duration": 0.093657,
     "end_time": "2021-10-26T02:51:51.320442",
     "exception": false,
     "start_time": "2021-10-26T02:51:51.226785",
     "status": "completed"
    },
    "tags": []
   },
   "source": [
    "Now, Let's assume some Thresholds according to data:\n",
    "* Customers who spend more then 3000 per year are `Rich` Customers.\n",
    "* Customers who spend more then 100 and less then 3000 per year are `middile class` Customers.\n",
    "* Customers who spend less then 100  per year are `Poor` Customers."
   ]
  },
  {
   "cell_type": "code",
   "execution_count": 34,
   "id": "9b936e84",
   "metadata": {
    "execution": {
     "iopub.execute_input": "2021-10-26T02:51:51.494920Z",
     "iopub.status.busy": "2021-10-26T02:51:51.494221Z",
     "iopub.status.idle": "2021-10-26T02:51:51.496882Z",
     "shell.execute_reply": "2021-10-26T02:51:51.496394Z",
     "shell.execute_reply.started": "2021-10-26T02:40:44.549713Z"
    },
    "id": "o0hoUOXRM4IN",
    "papermill": {
     "duration": 0.092213,
     "end_time": "2021-10-26T02:51:51.497033",
     "exception": false,
     "start_time": "2021-10-26T02:51:51.404820",
     "status": "completed"
    },
    "tags": []
   },
   "outputs": [],
   "source": [
    "Rich_cust=price_segm[price_segm['Total Money spend by Customer']>3000]"
   ]
  },
  {
   "cell_type": "code",
   "execution_count": 35,
   "id": "67532e1d",
   "metadata": {
    "execution": {
     "iopub.execute_input": "2021-10-26T02:51:51.668636Z",
     "iopub.status.busy": "2021-10-26T02:51:51.667667Z",
     "iopub.status.idle": "2021-10-26T02:51:51.672799Z",
     "shell.execute_reply": "2021-10-26T02:51:51.673337Z",
     "shell.execute_reply.started": "2021-10-26T02:40:59.316317Z"
    },
    "id": "G7e-KAV3Nbn7",
    "papermill": {
     "duration": 0.092735,
     "end_time": "2021-10-26T02:51:51.673515",
     "exception": false,
     "start_time": "2021-10-26T02:51:51.580780",
     "status": "completed"
    },
    "tags": []
   },
   "outputs": [],
   "source": [
    "Middile_cust=price_segm[((price_segm['Total Money spend by Customer']>100) & (price_segm['Total Money spend by Customer']<=3000))]"
   ]
  },
  {
   "cell_type": "code",
   "execution_count": 36,
   "id": "5229fb2c",
   "metadata": {
    "execution": {
     "iopub.execute_input": "2021-10-26T02:51:51.850587Z",
     "iopub.status.busy": "2021-10-26T02:51:51.849811Z",
     "iopub.status.idle": "2021-10-26T02:51:51.853850Z",
     "shell.execute_reply": "2021-10-26T02:51:51.854481Z",
     "shell.execute_reply.started": "2021-10-26T02:41:06.677181Z"
    },
    "id": "2TTwJxQRNxax",
    "papermill": {
     "duration": 0.094899,
     "end_time": "2021-10-26T02:51:51.854682",
     "exception": false,
     "start_time": "2021-10-26T02:51:51.759783",
     "status": "completed"
    },
    "tags": []
   },
   "outputs": [],
   "source": [
    "Poor_cust=price_segm[price_segm['Total Money spend by Customer']<=100]"
   ]
  },
  {
   "cell_type": "code",
   "execution_count": 37,
   "id": "441cf09b",
   "metadata": {
    "execution": {
     "iopub.execute_input": "2021-10-26T02:51:52.030824Z",
     "iopub.status.busy": "2021-10-26T02:51:52.029978Z",
     "iopub.status.idle": "2021-10-26T02:51:52.035898Z",
     "shell.execute_reply": "2021-10-26T02:51:52.036483Z",
     "shell.execute_reply.started": "2021-10-26T02:41:10.280497Z"
    },
    "id": "DYP--80xO9T2",
    "outputId": "d3bef968-acae-4a24-9149-f015634590d6",
    "papermill": {
     "duration": 0.096924,
     "end_time": "2021-10-26T02:51:52.036702",
     "exception": false,
     "start_time": "2021-10-26T02:51:51.939778",
     "status": "completed"
    },
    "tags": []
   },
   "outputs": [
    {
     "name": "stdout",
     "output_type": "stream",
     "text": [
      "Number of Rich Customers: 24, Middile class customers: 2537 & Poor Customer: 1753 \n"
     ]
    }
   ],
   "source": [
    "print(f'Number of Rich Customers: {len(Rich_cust)}, Middile class customers: {len(Middile_cust)} & Poor Customer: {len(Poor_cust)} ')"
   ]
  },
  {
   "cell_type": "code",
   "execution_count": 38,
   "id": "c447f298",
   "metadata": {
    "execution": {
     "iopub.execute_input": "2021-10-26T02:51:52.218981Z",
     "iopub.status.busy": "2021-10-26T02:51:52.218151Z",
     "iopub.status.idle": "2021-10-26T02:51:52.220766Z",
     "shell.execute_reply": "2021-10-26T02:51:52.220198Z",
     "shell.execute_reply.started": "2021-10-26T02:41:13.604225Z"
    },
    "id": "uIaBrP4UQokF",
    "papermill": {
     "duration": 0.097007,
     "end_time": "2021-10-26T02:51:52.220936",
     "exception": false,
     "start_time": "2021-10-26T02:51:52.123929",
     "status": "completed"
    },
    "tags": []
   },
   "outputs": [],
   "source": [
    "cust_division=np.array([len(Rich_cust),len(Middile_cust),len(Poor_cust)])\n",
    "cust_label=np.array(['Rich','Middile Class', 'Poor'])\n",
    "# cust_explode=[0.3,0.2,0]"
   ]
  },
  {
   "cell_type": "code",
   "execution_count": 39,
   "id": "3f3402c0",
   "metadata": {
    "execution": {
     "iopub.execute_input": "2021-10-26T02:51:52.425006Z",
     "iopub.status.busy": "2021-10-26T02:51:52.422702Z",
     "iopub.status.idle": "2021-10-26T02:51:52.644312Z",
     "shell.execute_reply": "2021-10-26T02:51:52.643678Z",
     "shell.execute_reply.started": "2021-10-26T02:41:20.076525Z"
    },
    "id": "EbHd9P4IRJY5",
    "outputId": "7a7f40c2-9592-4f2a-f9e6-751b0d12bb0b",
    "papermill": {
     "duration": 0.337383,
     "end_time": "2021-10-26T02:51:52.644489",
     "exception": false,
     "start_time": "2021-10-26T02:51:52.307106",
     "status": "completed"
    },
    "tags": []
   },
   "outputs": [
    {
     "data": {
      "image/png": "[encoded data removed]",
      "text/plain": [
       "<Figure size 432x288 with 1 Axes>"
      ]
     },
     "metadata": {},
     "output_type": "display_data"
    }
   ],
   "source": [
    "plt.pie(cust_division,labels=cust_label,shadow=True,autopct='%1.2f')\n",
    "plt.legend()\n",
    "plt.show()"
   ]
  },
  {
   "cell_type": "markdown",
   "id": "9fd0fb86",
   "metadata": {
    "id": "oe9rChRqRkB_",
    "papermill": {
     "duration": 0.086713,
     "end_time": "2021-10-26T02:51:52.817674",
     "exception": false,
     "start_time": "2021-10-26T02:51:52.730961",
     "status": "completed"
    },
    "tags": []
   },
   "source": [
    "## Loyal Customers"
   ]
  },
  {
   "cell_type": "markdown",
   "id": "f05b1a20",
   "metadata": {
    "id": "VVekZKczSeYr",
    "papermill": {
     "duration": 0.087019,
     "end_time": "2021-10-26T02:51:52.992094",
     "exception": false,
     "start_time": "2021-10-26T02:51:52.905075",
     "status": "completed"
    },
    "tags": []
   },
   "source": [
    "`Loyal Customers can be defined as which shop on retail store on regular basis. Let's consider Customers who Purchase from store for Each Consecutive Month in a year are Loyal.`"
   ]
  },
  {
   "cell_type": "code",
   "execution_count": 40,
   "id": "a11a2c92",
   "metadata": {
    "execution": {
     "iopub.execute_input": "2021-10-26T02:51:53.172665Z",
     "iopub.status.busy": "2021-10-26T02:51:53.170777Z",
     "iopub.status.idle": "2021-10-26T02:51:53.225107Z",
     "shell.execute_reply": "2021-10-26T02:51:53.224344Z",
     "shell.execute_reply.started": "2021-10-26T02:41:27.140887Z"
    },
    "id": "8P9YdovETfDy",
    "papermill": {
     "duration": 0.146942,
     "end_time": "2021-10-26T02:51:53.225290",
     "exception": false,
     "start_time": "2021-10-26T02:51:53.078348",
     "status": "completed"
    },
    "tags": []
   },
   "outputs": [],
   "source": [
    "# Let's create a new column with month\n",
    "df['Invoice_Month']= pd.DatetimeIndex(df['InvoiceDate']).month"
   ]
  },
  {
   "cell_type": "code",
   "execution_count": 41,
   "id": "0fda080f",
   "metadata": {
    "execution": {
     "iopub.execute_input": "2021-10-26T02:51:53.419733Z",
     "iopub.status.busy": "2021-10-26T02:51:53.412260Z",
     "iopub.status.idle": "2021-10-26T02:51:53.423846Z",
     "shell.execute_reply": "2021-10-26T02:51:53.423228Z",
     "shell.execute_reply.started": "2021-10-26T02:41:28.156255Z"
    },
    "id": "yf8qKJx5TyUe",
    "outputId": "db04e769-6eea-40d9-974f-37383a42b133",
    "papermill": {
     "duration": 0.111197,
     "end_time": "2021-10-26T02:51:53.424002",
     "exception": false,
     "start_time": "2021-10-26T02:51:53.312805",
     "status": "completed"
    },
    "tags": []
   },
   "outputs": [
    {
     "data": {
      "text/html": [
       "<div>\n",
       "<style scoped>\n",
       "    .dataframe tbody tr th:only-of-type {\n",
       "        vertical-align: middle;\n",
       "    }\n",
       "\n",
       "    .dataframe tbody tr th {\n",
       "        vertical-align: top;\n",
       "    }\n",
       "\n",
       "    .dataframe thead th {\n",
       "        text-align: right;\n",
       "    }\n",
       "</style>\n",
       "<table border=\"1\" class=\"dataframe\">\n",
       "  <thead>\n",
       "    <tr style=\"text-align: right;\">\n",
       "      <th></th>\n",
       "      <th>Invoice</th>\n",
       "      <th>StockCode</th>\n",
       "      <th>Description</th>\n",
       "      <th>Quantity</th>\n",
       "      <th>InvoiceDate</th>\n",
       "      <th>Price</th>\n",
       "      <th>Customer ID</th>\n",
       "      <th>Country</th>\n",
       "      <th>Invoice_Month</th>\n",
       "    </tr>\n",
       "  </thead>\n",
       "  <tbody>\n",
       "    <tr>\n",
       "      <th>0</th>\n",
       "      <td>489434</td>\n",
       "      <td>85048</td>\n",
       "      <td>15CM CHRISTMAS GLASS BALL 20 LIGHTS</td>\n",
       "      <td>12</td>\n",
       "      <td>2009-12-01 07:45:00</td>\n",
       "      <td>6.95</td>\n",
       "      <td>13085.0</td>\n",
       "      <td>United Kingdom</td>\n",
       "      <td>12</td>\n",
       "    </tr>\n",
       "    <tr>\n",
       "      <th>1</th>\n",
       "      <td>489434</td>\n",
       "      <td>79323P</td>\n",
       "      <td>PINK CHERRY LIGHTS</td>\n",
       "      <td>12</td>\n",
       "      <td>2009-12-01 07:45:00</td>\n",
       "      <td>6.75</td>\n",
       "      <td>13085.0</td>\n",
       "      <td>United Kingdom</td>\n",
       "      <td>12</td>\n",
       "    </tr>\n",
       "    <tr>\n",
       "      <th>2</th>\n",
       "      <td>489434</td>\n",
       "      <td>79323W</td>\n",
       "      <td>WHITE CHERRY LIGHTS</td>\n",
       "      <td>12</td>\n",
       "      <td>2009-12-01 07:45:00</td>\n",
       "      <td>6.75</td>\n",
       "      <td>13085.0</td>\n",
       "      <td>United Kingdom</td>\n",
       "      <td>12</td>\n",
       "    </tr>\n",
       "    <tr>\n",
       "      <th>3</th>\n",
       "      <td>489434</td>\n",
       "      <td>22041</td>\n",
       "      <td>RECORD FRAME 7\" SINGLE SIZE</td>\n",
       "      <td>48</td>\n",
       "      <td>2009-12-01 07:45:00</td>\n",
       "      <td>2.10</td>\n",
       "      <td>13085.0</td>\n",
       "      <td>United Kingdom</td>\n",
       "      <td>12</td>\n",
       "    </tr>\n",
       "    <tr>\n",
       "      <th>4</th>\n",
       "      <td>489434</td>\n",
       "      <td>21232</td>\n",
       "      <td>STRAWBERRY CERAMIC TRINKET BOX</td>\n",
       "      <td>24</td>\n",
       "      <td>2009-12-01 07:45:00</td>\n",
       "      <td>1.25</td>\n",
       "      <td>13085.0</td>\n",
       "      <td>United Kingdom</td>\n",
       "      <td>12</td>\n",
       "    </tr>\n",
       "    <tr>\n",
       "      <th>...</th>\n",
       "      <td>...</td>\n",
       "      <td>...</td>\n",
       "      <td>...</td>\n",
       "      <td>...</td>\n",
       "      <td>...</td>\n",
       "      <td>...</td>\n",
       "      <td>...</td>\n",
       "      <td>...</td>\n",
       "      <td>...</td>\n",
       "    </tr>\n",
       "    <tr>\n",
       "      <th>525456</th>\n",
       "      <td>538171</td>\n",
       "      <td>22271</td>\n",
       "      <td>FELTCRAFT DOLL ROSIE</td>\n",
       "      <td>2</td>\n",
       "      <td>2010-12-09 20:01:00</td>\n",
       "      <td>2.95</td>\n",
       "      <td>17530.0</td>\n",
       "      <td>United Kingdom</td>\n",
       "      <td>12</td>\n",
       "    </tr>\n",
       "    <tr>\n",
       "      <th>525457</th>\n",
       "      <td>538171</td>\n",
       "      <td>22750</td>\n",
       "      <td>FELTCRAFT PRINCESS LOLA DOLL</td>\n",
       "      <td>1</td>\n",
       "      <td>2010-12-09 20:01:00</td>\n",
       "      <td>3.75</td>\n",
       "      <td>17530.0</td>\n",
       "      <td>United Kingdom</td>\n",
       "      <td>12</td>\n",
       "    </tr>\n",
       "    <tr>\n",
       "      <th>525458</th>\n",
       "      <td>538171</td>\n",
       "      <td>22751</td>\n",
       "      <td>FELTCRAFT PRINCESS OLIVIA DOLL</td>\n",
       "      <td>1</td>\n",
       "      <td>2010-12-09 20:01:00</td>\n",
       "      <td>3.75</td>\n",
       "      <td>17530.0</td>\n",
       "      <td>United Kingdom</td>\n",
       "      <td>12</td>\n",
       "    </tr>\n",
       "    <tr>\n",
       "      <th>525459</th>\n",
       "      <td>538171</td>\n",
       "      <td>20970</td>\n",
       "      <td>PINK FLORAL FELTCRAFT SHOULDER BAG</td>\n",
       "      <td>2</td>\n",
       "      <td>2010-12-09 20:01:00</td>\n",
       "      <td>3.75</td>\n",
       "      <td>17530.0</td>\n",
       "      <td>United Kingdom</td>\n",
       "      <td>12</td>\n",
       "    </tr>\n",
       "    <tr>\n",
       "      <th>525460</th>\n",
       "      <td>538171</td>\n",
       "      <td>21931</td>\n",
       "      <td>JUMBO STORAGE BAG SUKI</td>\n",
       "      <td>2</td>\n",
       "      <td>2010-12-09 20:01:00</td>\n",
       "      <td>1.95</td>\n",
       "      <td>17530.0</td>\n",
       "      <td>United Kingdom</td>\n",
       "      <td>12</td>\n",
       "    </tr>\n",
       "  </tbody>\n",
       "</table>\n",
       "<p>505190 rows × 9 columns</p>\n",
       "</div>"
      ],
      "text/plain": [
       "       Invoice StockCode                          Description  Quantity  \\\n",
       "0       489434     85048  15CM CHRISTMAS GLASS BALL 20 LIGHTS        12   \n",
       "1       489434    79323P                   PINK CHERRY LIGHTS        12   \n",
       "2       489434    79323W                  WHITE CHERRY LIGHTS        12   \n",
       "3       489434     22041         RECORD FRAME 7\" SINGLE SIZE         48   \n",
       "4       489434     21232       STRAWBERRY CERAMIC TRINKET BOX        24   \n",
       "...        ...       ...                                  ...       ...   \n",
       "525456  538171     22271                 FELTCRAFT DOLL ROSIE         2   \n",
       "525457  538171     22750         FELTCRAFT PRINCESS LOLA DOLL         1   \n",
       "525458  538171     22751       FELTCRAFT PRINCESS OLIVIA DOLL         1   \n",
       "525459  538171     20970   PINK FLORAL FELTCRAFT SHOULDER BAG         2   \n",
       "525460  538171     21931               JUMBO STORAGE BAG SUKI         2   \n",
       "\n",
       "               InvoiceDate  Price  Customer ID         Country  Invoice_Month  \n",
       "0      2009-12-01 07:45:00   6.95      13085.0  United Kingdom             12  \n",
       "1      2009-12-01 07:45:00   6.75      13085.0  United Kingdom             12  \n",
       "2      2009-12-01 07:45:00   6.75      13085.0  United Kingdom             12  \n",
       "3      2009-12-01 07:45:00   2.10      13085.0  United Kingdom             12  \n",
       "4      2009-12-01 07:45:00   1.25      13085.0  United Kingdom             12  \n",
       "...                    ...    ...          ...             ...            ...  \n",
       "525456 2010-12-09 20:01:00   2.95      17530.0  United Kingdom             12  \n",
       "525457 2010-12-09 20:01:00   3.75      17530.0  United Kingdom             12  \n",
       "525458 2010-12-09 20:01:00   3.75      17530.0  United Kingdom             12  \n",
       "525459 2010-12-09 20:01:00   3.75      17530.0  United Kingdom             12  \n",
       "525460 2010-12-09 20:01:00   1.95      17530.0  United Kingdom             12  \n",
       "\n",
       "[505190 rows x 9 columns]"
      ]
     },
     "execution_count": 41,
     "metadata": {},
     "output_type": "execute_result"
    }
   ],
   "source": [
    "df"
   ]
  },
  {
   "cell_type": "markdown",
   "id": "3d557ff3",
   "metadata": {
    "id": "AZoyrWyHYO1Z",
    "papermill": {
     "duration": 0.086558,
     "end_time": "2021-10-26T02:51:53.599289",
     "exception": false,
     "start_time": "2021-10-26T02:51:53.512731",
     "status": "completed"
    },
    "tags": []
   },
   "source": [
    "We find the unique set of customerId in all month and take intersection of all IDs. Ids which have consecutively Purchased for all months are Loyal."
   ]
  },
  {
   "cell_type": "code",
   "execution_count": 42,
   "id": "db9280c9",
   "metadata": {
    "execution": {
     "iopub.execute_input": "2021-10-26T02:51:53.792402Z",
     "iopub.status.busy": "2021-10-26T02:51:53.791608Z",
     "iopub.status.idle": "2021-10-26T02:51:53.932899Z",
     "shell.execute_reply": "2021-10-26T02:51:53.932188Z",
     "shell.execute_reply.started": "2021-10-26T02:41:29.495288Z"
    },
    "id": "MCqyfjaYUW1p",
    "papermill": {
     "duration": 0.246426,
     "end_time": "2021-10-26T02:51:53.933069",
     "exception": false,
     "start_time": "2021-10-26T02:51:53.686643",
     "status": "completed"
    },
    "tags": []
   },
   "outputs": [],
   "source": [
    "Customer_id_month1=set(df[df['Invoice_Month']==1]['Customer ID'].dropna())     #unique Customers  ID who purchased in 1st month\n",
    "Customer_id_month2=set(df[df['Invoice_Month']==2]['Customer ID'].dropna())     #unique Customers  ID who purchased in 2nd month\n",
    "Customer_id_month3=set(df[df['Invoice_Month']==3]['Customer ID'].dropna())     #unique Customers  ID who purchased in 3rd month\n",
    "Customer_id_month4=set(df[df['Invoice_Month']==4]['Customer ID'].dropna())     #unique Customers  ID who purchased in 4th monthd\n",
    "Customer_id_month5=set(df[df['Invoice_Month']==5]['Customer ID'].dropna())     #unique Customers  ID who purchased in 5th month\n",
    "Customer_id_month6=set(df[df['Invoice_Month']==6]['Customer ID'].dropna())     #unique Customers  ID who purchased in 6th month\n",
    "Customer_id_month7=set(df[df['Invoice_Month']==7]['Customer ID'].dropna())     #unique Customers  ID who purchased in 7th month\n",
    "Customer_id_month8=set(df[df['Invoice_Month']==8]['Customer ID'].dropna())     #unique Customers  ID who purchased in 8th month\n",
    "Customer_id_month9=set(df[df['Invoice_Month']==9]['Customer ID'].dropna())     #unique Customers  ID who purchased in 9th month\n",
    "Customer_id_month10=set(df[df['Invoice_Month']==10]['Customer ID'].dropna())   #unique Customers  ID who purchased in 10th month\n",
    "Customer_id_month11=set(df[df['Invoice_Month']==11]['Customer ID'].dropna())   #unique Customers  ID who purchased in 11th month\n",
    "Customer_id_month12=set(df[df['Invoice_Month']==12]['Customer ID'].dropna())   #unique Customers  ID who purchased in 12th month"
   ]
  },
  {
   "cell_type": "code",
   "execution_count": 43,
   "id": "431d4af8",
   "metadata": {
    "execution": {
     "iopub.execute_input": "2021-10-26T02:51:54.112805Z",
     "iopub.status.busy": "2021-10-26T02:51:54.112053Z",
     "iopub.status.idle": "2021-10-26T02:51:54.114546Z",
     "shell.execute_reply": "2021-10-26T02:51:54.113889Z",
     "shell.execute_reply.started": "2021-10-26T02:41:30.064118Z"
    },
    "id": "N3s9rRUwXGW3",
    "papermill": {
     "duration": 0.094998,
     "end_time": "2021-10-26T02:51:54.114714",
     "exception": false,
     "start_time": "2021-10-26T02:51:54.019716",
     "status": "completed"
    },
    "tags": []
   },
   "outputs": [],
   "source": [
    "# take intersection of all month Customer ID to find the loyal Customers\n",
    "Loyal_Customer_ID=Customer_id_month1.intersection(Customer_id_month2,Customer_id_month3,Customer_id_month4,Customer_id_month5,Customer_id_month6,Customer_id_month7,Customer_id_month8,Customer_id_month9,Customer_id_month10,Customer_id_month11,Customer_id_month12)"
   ]
  },
  {
   "cell_type": "code",
   "execution_count": 44,
   "id": "ee66d146",
   "metadata": {
    "execution": {
     "iopub.execute_input": "2021-10-26T02:51:54.294503Z",
     "iopub.status.busy": "2021-10-26T02:51:54.293809Z",
     "iopub.status.idle": "2021-10-26T02:51:54.299053Z",
     "shell.execute_reply": "2021-10-26T02:51:54.298507Z",
     "shell.execute_reply.started": "2021-10-26T02:41:30.612245Z"
    },
    "id": "P1DfwO0lXHlv",
    "outputId": "4e049ef4-d32f-4431-8cda-b7871302af24",
    "papermill": {
     "duration": 0.094724,
     "end_time": "2021-10-26T02:51:54.299222",
     "exception": false,
     "start_time": "2021-10-26T02:51:54.204498",
     "status": "completed"
    },
    "tags": []
   },
   "outputs": [
    {
     "data": {
      "text/plain": [
       "45"
      ]
     },
     "execution_count": 44,
     "metadata": {},
     "output_type": "execute_result"
    }
   ],
   "source": [
    "len(Loyal_Customer_ID)"
   ]
  },
  {
   "cell_type": "code",
   "execution_count": 45,
   "id": "deb9c1d0",
   "metadata": {
    "execution": {
     "iopub.execute_input": "2021-10-26T02:51:54.476220Z",
     "iopub.status.busy": "2021-10-26T02:51:54.475523Z",
     "iopub.status.idle": "2021-10-26T02:51:54.487943Z",
     "shell.execute_reply": "2021-10-26T02:51:54.488451Z",
     "shell.execute_reply.started": "2021-10-26T02:41:31.352121Z"
    },
    "id": "zDL34Yiib8Sp",
    "papermill": {
     "duration": 0.102443,
     "end_time": "2021-10-26T02:51:54.488673",
     "exception": false,
     "start_time": "2021-10-26T02:51:54.386230",
     "status": "completed"
    },
    "tags": []
   },
   "outputs": [],
   "source": [
    "loyal_cc=np.array([len(Loyal_Customer_ID),len(df['Customer ID'].dropna().unique()) -len(Loyal_Customer_ID)])\n",
    "loyal_label=np.array(['Loyal Customers','Non-Loyal Customers'])"
   ]
  },
  {
   "cell_type": "code",
   "execution_count": 46,
   "id": "da0e8391",
   "metadata": {
    "execution": {
     "iopub.execute_input": "2021-10-26T02:51:54.668902Z",
     "iopub.status.busy": "2021-10-26T02:51:54.668243Z",
     "iopub.status.idle": "2021-10-26T02:51:54.921830Z",
     "shell.execute_reply": "2021-10-26T02:51:54.922408Z",
     "shell.execute_reply.started": "2021-10-26T02:41:31.700651Z"
    },
    "id": "FEioZG9OY89w",
    "outputId": "f5b2e398-f214-47cf-d6f2-75043fc23883",
    "papermill": {
     "duration": 0.347369,
     "end_time": "2021-10-26T02:51:54.922610",
     "exception": false,
     "start_time": "2021-10-26T02:51:54.575241",
     "status": "completed"
    },
    "tags": []
   },
   "outputs": [
    {
     "data": {
      "image/png": "[encoded data removed]",
      "text/plain": [
       "<Figure size 432x288 with 1 Axes>"
      ]
     },
     "metadata": {},
     "output_type": "display_data"
    }
   ],
   "source": [
    "plt.pie(loyal_cc,labels=loyal_label,shadow=True,autopct='%1.2f')\n",
    "plt.legend()\n",
    "plt.show()"
   ]
  },
  {
   "cell_type": "markdown",
   "id": "5d770c59",
   "metadata": {
    "id": "6GJYnECccb5K",
    "papermill": {
     "duration": 0.087632,
     "end_time": "2021-10-26T02:51:55.097773",
     "exception": false,
     "start_time": "2021-10-26T02:51:55.010141",
     "status": "completed"
    },
    "tags": []
   },
   "source": [
    "So, there are just 1.04% of Loyal Customers."
   ]
  },
  {
   "cell_type": "markdown",
   "id": "f36e09f1",
   "metadata": {
    "id": "dXYFoM7-dEWN",
    "papermill": {
     "duration": 0.089728,
     "end_time": "2021-10-26T02:51:55.277174",
     "exception": false,
     "start_time": "2021-10-26T02:51:55.187446",
     "status": "completed"
    },
    "tags": []
   },
   "source": [
    "## Most Popular Sales Time (Seasonability)"
   ]
  },
  {
   "cell_type": "code",
   "execution_count": 47,
   "id": "3658ae0b",
   "metadata": {
    "execution": {
     "iopub.execute_input": "2021-10-26T02:51:55.465540Z",
     "iopub.status.busy": "2021-10-26T02:51:55.463398Z",
     "iopub.status.idle": "2021-10-26T02:51:55.521098Z",
     "shell.execute_reply": "2021-10-26T02:51:55.520491Z",
     "shell.execute_reply.started": "2021-10-26T02:41:33.452036Z"
    },
    "id": "4Zm16vNRdP19",
    "papermill": {
     "duration": 0.155727,
     "end_time": "2021-10-26T02:51:55.521275",
     "exception": false,
     "start_time": "2021-10-26T02:51:55.365548",
     "status": "completed"
    },
    "tags": []
   },
   "outputs": [],
   "source": [
    "Month_wise_sales=df.groupby('Invoice_Month').sum()"
   ]
  },
  {
   "cell_type": "code",
   "execution_count": 48,
   "id": "420749a7",
   "metadata": {
    "execution": {
     "iopub.execute_input": "2021-10-26T02:51:55.702068Z",
     "iopub.status.busy": "2021-10-26T02:51:55.701089Z",
     "iopub.status.idle": "2021-10-26T02:51:55.706191Z",
     "shell.execute_reply": "2021-10-26T02:51:55.706801Z",
     "shell.execute_reply.started": "2021-10-26T02:41:33.816546Z"
    },
    "id": "-LlOmueKhiUh",
    "papermill": {
     "duration": 0.0976,
     "end_time": "2021-10-26T02:51:55.706997",
     "exception": false,
     "start_time": "2021-10-26T02:51:55.609397",
     "status": "completed"
    },
    "tags": []
   },
   "outputs": [],
   "source": [
    "del Month_wise_sales['Quantity']\n",
    "del Month_wise_sales['Customer ID']"
   ]
  },
  {
   "cell_type": "code",
   "execution_count": 49,
   "id": "39ff3746",
   "metadata": {
    "execution": {
     "iopub.execute_input": "2021-10-26T02:51:55.888830Z",
     "iopub.status.busy": "2021-10-26T02:51:55.887864Z",
     "iopub.status.idle": "2021-10-26T02:51:55.898795Z",
     "shell.execute_reply": "2021-10-26T02:51:55.899502Z",
     "shell.execute_reply.started": "2021-10-26T02:41:34.297300Z"
    },
    "id": "lODo6ubViAa6",
    "outputId": "055a11bf-29b7-4e63-daee-61cea5d714e2",
    "papermill": {
     "duration": 0.104364,
     "end_time": "2021-10-26T02:51:55.899701",
     "exception": false,
     "start_time": "2021-10-26T02:51:55.795337",
     "status": "completed"
    },
    "tags": []
   },
   "outputs": [
    {
     "data": {
      "text/html": [
       "<div>\n",
       "<style scoped>\n",
       "    .dataframe tbody tr th:only-of-type {\n",
       "        vertical-align: middle;\n",
       "    }\n",
       "\n",
       "    .dataframe tbody tr th {\n",
       "        vertical-align: top;\n",
       "    }\n",
       "\n",
       "    .dataframe thead th {\n",
       "        text-align: right;\n",
       "    }\n",
       "</style>\n",
       "<table border=\"1\" class=\"dataframe\">\n",
       "  <thead>\n",
       "    <tr style=\"text-align: right;\">\n",
       "      <th></th>\n",
       "      <th>Price</th>\n",
       "    </tr>\n",
       "    <tr>\n",
       "      <th>Invoice_Month</th>\n",
       "      <th></th>\n",
       "    </tr>\n",
       "  </thead>\n",
       "  <tbody>\n",
       "    <tr>\n",
       "      <th>12</th>\n",
       "      <td>296140.950</td>\n",
       "    </tr>\n",
       "    <tr>\n",
       "      <th>11</th>\n",
       "      <td>279615.732</td>\n",
       "    </tr>\n",
       "    <tr>\n",
       "      <th>10</th>\n",
       "      <td>242767.280</td>\n",
       "    </tr>\n",
       "    <tr>\n",
       "      <th>3</th>\n",
       "      <td>205447.521</td>\n",
       "    </tr>\n",
       "    <tr>\n",
       "      <th>6</th>\n",
       "      <td>184601.180</td>\n",
       "    </tr>\n",
       "    <tr>\n",
       "      <th>9</th>\n",
       "      <td>176566.711</td>\n",
       "    </tr>\n",
       "    <tr>\n",
       "      <th>4</th>\n",
       "      <td>143438.762</td>\n",
       "    </tr>\n",
       "    <tr>\n",
       "      <th>1</th>\n",
       "      <td>141115.072</td>\n",
       "    </tr>\n",
       "    <tr>\n",
       "      <th>5</th>\n",
       "      <td>130055.520</td>\n",
       "    </tr>\n",
       "    <tr>\n",
       "      <th>7</th>\n",
       "      <td>126058.790</td>\n",
       "    </tr>\n",
       "    <tr>\n",
       "      <th>8</th>\n",
       "      <td>125843.080</td>\n",
       "    </tr>\n",
       "    <tr>\n",
       "      <th>2</th>\n",
       "      <td>105918.866</td>\n",
       "    </tr>\n",
       "  </tbody>\n",
       "</table>\n",
       "</div>"
      ],
      "text/plain": [
       "                    Price\n",
       "Invoice_Month            \n",
       "12             296140.950\n",
       "11             279615.732\n",
       "10             242767.280\n",
       "3              205447.521\n",
       "6              184601.180\n",
       "9              176566.711\n",
       "4              143438.762\n",
       "1              141115.072\n",
       "5              130055.520\n",
       "7              126058.790\n",
       "8              125843.080\n",
       "2              105918.866"
      ]
     },
     "execution_count": 49,
     "metadata": {},
     "output_type": "execute_result"
    }
   ],
   "source": [
    "# Month wise sales in descending order\n",
    "Month_wise_sales.sort_values(by='Price',ascending=False)"
   ]
  },
  {
   "cell_type": "code",
   "execution_count": 50,
   "id": "6e7b1353",
   "metadata": {
    "execution": {
     "iopub.execute_input": "2021-10-26T02:51:56.086416Z",
     "iopub.status.busy": "2021-10-26T02:51:56.085746Z",
     "iopub.status.idle": "2021-10-26T02:51:56.390604Z",
     "shell.execute_reply": "2021-10-26T02:51:56.391106Z",
     "shell.execute_reply.started": "2021-10-26T02:41:34.684467Z"
    },
    "id": "Ankv-iRDiBp1",
    "outputId": "4317d63c-5ccf-4cbd-a48b-98dfad9c7417",
    "papermill": {
     "duration": 0.401014,
     "end_time": "2021-10-26T02:51:56.391339",
     "exception": false,
     "start_time": "2021-10-26T02:51:55.990325",
     "status": "completed"
    },
    "tags": []
   },
   "outputs": [
    {
     "data": {
      "text/plain": [
       "<AxesSubplot:title={'center':'Month Wise Sales'}, xlabel='Invoice_Month', ylabel='Sales'>"
      ]
     },
     "execution_count": 50,
     "metadata": {},
     "output_type": "execute_result"
    },
    {
     "data": {
      "image/png": "[encoded data removed]",
      "text/plain": [
       "<Figure size 432x288 with 1 Axes>"
      ]
     },
     "metadata": {
      "needs_background": "light"
     },
     "output_type": "display_data"
    }
   ],
   "source": [
    "Month_wise_sales.plot(kind='bar',color='y',ylabel='Sales',title='Month Wise Sales')"
   ]
  },
  {
   "cell_type": "markdown",
   "id": "56c1f4e2",
   "metadata": {
    "id": "HAizp_jZi7dI",
    "papermill": {
     "duration": 0.089369,
     "end_time": "2021-10-26T02:51:56.570893",
     "exception": false,
     "start_time": "2021-10-26T02:51:56.481524",
     "status": "completed"
    },
    "tags": []
   },
   "source": [
    "* Highest Sales of Store is in `DECEMBER`\n",
    "* Sales is low in month from Jan-Feb &  then get a Sudden Jump in Months of March & June . After the Month of August Sales Continously Increases.\n"
   ]
  },
  {
   "cell_type": "code",
   "execution_count": 51,
   "id": "150f3208",
   "metadata": {
    "execution": {
     "iopub.execute_input": "2021-10-26T02:51:56.753573Z",
     "iopub.status.busy": "2021-10-26T02:51:56.752904Z",
     "iopub.status.idle": "2021-10-26T02:51:57.237636Z",
     "shell.execute_reply": "2021-10-26T02:51:57.236877Z",
     "shell.execute_reply.started": "2021-10-26T02:41:35.631904Z"
    },
    "id": "0rsb9OfwkGH_",
    "outputId": "a9a61b2d-76ce-43ae-c50b-ec99bfc04355",
    "papermill": {
     "duration": 0.577932,
     "end_time": "2021-10-26T02:51:57.237803",
     "exception": false,
     "start_time": "2021-10-26T02:51:56.659871",
     "status": "completed"
    },
    "tags": []
   },
   "outputs": [
    {
     "data": {
      "text/plain": [
       "<AxesSubplot:title={'center':'Day Wise Sales for 1 Complete year'}, xlabel='Day of Month', ylabel='Sales'>"
      ]
     },
     "execution_count": 51,
     "metadata": {},
     "output_type": "execute_result"
    },
    {
     "data": {
      "image/png": "[encoded data removed]",
      "text/plain": [
       "<Figure size 864x288 with 1 Axes>"
      ]
     },
     "metadata": {
      "needs_background": "light"
     },
     "output_type": "display_data"
    }
   ],
   "source": [
    "fig, axs = plt.subplots(figsize=(12, 4))\n",
    "df.groupby(df['InvoiceDate'].dt.day)[\"Price\"].sum().plot(kind='bar', rot=0, ax=axs,xlabel='Day of Month',ylabel='Sales',title='Day Wise Sales for 1 Complete year')"
   ]
  },
  {
   "cell_type": "markdown",
   "id": "8ab8ad0a",
   "metadata": {
    "id": "vThX30i1rVqm",
    "papermill": {
     "duration": 0.089652,
     "end_time": "2021-10-26T02:51:57.418219",
     "exception": false,
     "start_time": "2021-10-26T02:51:57.328567",
     "status": "completed"
    },
    "tags": []
   },
   "source": [
    "* Theres is no as such good pattern at the Day wise Sales.\n",
    "\n",
    "\n",
    "\n",
    "\n",
    "\n",
    "\n"
   ]
  },
  {
   "cell_type": "code",
   "execution_count": 52,
   "id": "c893b939",
   "metadata": {
    "execution": {
     "iopub.execute_input": "2021-10-26T02:51:57.610988Z",
     "iopub.status.busy": "2021-10-26T02:51:57.603792Z",
     "iopub.status.idle": "2021-10-26T02:51:58.125480Z",
     "shell.execute_reply": "2021-10-26T02:51:58.126001Z",
     "shell.execute_reply.started": "2021-10-26T02:41:36.468065Z"
    },
    "id": "264_QVuFnFKp",
    "outputId": "3f3e661a-a9e6-414e-d4ef-a566f55081b1",
    "papermill": {
     "duration": 0.61694,
     "end_time": "2021-10-26T02:51:58.126178",
     "exception": false,
     "start_time": "2021-10-26T02:51:57.509238",
     "status": "completed"
    },
    "tags": []
   },
   "outputs": [
    {
     "data": {
      "text/plain": [
       "<AxesSubplot:title={'center':'Hours Wise Sales for 1 Complete year'}, xlabel='Opening hours of store', ylabel='Sales'>"
      ]
     },
     "execution_count": 52,
     "metadata": {},
     "output_type": "execute_result"
    },
    {
     "data": {
      "image/png": "[encoded data removed]",
      "text/plain": [
       "<Figure size 864x288 with 1 Axes>"
      ]
     },
     "metadata": {
      "needs_background": "light"
     },
     "output_type": "display_data"
    }
   ],
   "source": [
    "fig, axs = plt.subplots(figsize=(12, 4))\n",
    "df.groupby(df['InvoiceDate'].dt.hour)[\"Price\"].sum().plot(kind='bar',color='g', rot=0, ax=axs,xlabel='Opening hours of store',ylabel='Sales',title='Hours Wise Sales for 1 Complete year')"
   ]
  },
  {
   "cell_type": "markdown",
   "id": "94b77a9b",
   "metadata": {
    "id": "WxGK_7tMpmKo",
    "papermill": {
     "duration": 0.092074,
     "end_time": "2021-10-26T02:51:58.310248",
     "exception": false,
     "start_time": "2021-10-26T02:51:58.218174",
     "status": "completed"
    },
    "tags": []
   },
   "source": [
    "***From the Hourwise Sales it can be seen clearly that at the Mid of the day Sales get Higher***"
   ]
  },
  {
   "cell_type": "markdown",
   "id": "09ec43ff",
   "metadata": {
    "id": "coaEvtTQr7ZY",
    "papermill": {
     "duration": 0.090506,
     "end_time": "2021-10-26T02:51:58.491432",
     "exception": false,
     "start_time": "2021-10-26T02:51:58.400926",
     "status": "completed"
    },
    "tags": []
   },
   "source": [
    "## INFERENCE 2\n",
    "\n",
    "* We have Segmented Customers on the basis of `Rich`-0.56% , `Middle class`- 58.81% , `poor`-40.64% .\n",
    "* We have Segmented Customers on the basis of `Loyal Customers` -1.04%  & `Non-Loyal Customers`- 98.96%\n",
    "* Highest Sales of Store is in `DECEMBER`\n",
    "* Sales is low in month from Jan-Feb &  then get a Sudden Jump in Months of March & June . After the Month of August Sales Continuously Increases.\n",
    "* There is no as such good pattern at the Day wise Sales.\n",
    "* From the Hourwise Sales it can be seen clearly that at the Mid of the day Sales get Higher"
   ]
  },
  {
   "cell_type": "markdown",
   "id": "ef888178",
   "metadata": {
    "id": "JQe70Pn8uPdp",
    "papermill": {
     "duration": 0.090762,
     "end_time": "2021-10-26T02:51:58.672785",
     "exception": false,
     "start_time": "2021-10-26T02:51:58.582023",
     "status": "completed"
    },
    "tags": []
   },
   "source": [
    "## Customer's lifetime Value(CLV)"
   ]
  },
  {
   "cell_type": "markdown",
   "id": "dc817bfa",
   "metadata": {
    "id": "dUFuQVNkybRt",
    "papermill": {
     "duration": 0.090927,
     "end_time": "2021-10-26T02:51:58.854186",
     "exception": false,
     "start_time": "2021-10-26T02:51:58.763259",
     "status": "completed"
    },
    "tags": []
   },
   "source": [
    "***Assuming Customer lifetime value refers to the entire amount a business earns from the average customer over the course of their relationship with the business.***"
   ]
  },
  {
   "cell_type": "markdown",
   "id": "ca2e3956",
   "metadata": {
    "id": "Kxju4EcCy8GS",
    "papermill": {
     "duration": 0.090982,
     "end_time": "2021-10-26T02:51:59.036971",
     "exception": false,
     "start_time": "2021-10-26T02:51:58.945989",
     "status": "completed"
    },
    "tags": []
   },
   "source": [
    "Now, We can calculate Price spend By Each Customer ID Over a span of Year to calculate Customer's Lifetime value."
   ]
  },
  {
   "cell_type": "code",
   "execution_count": 53,
   "id": "902c8858",
   "metadata": {
    "execution": {
     "iopub.execute_input": "2021-10-26T02:51:59.230252Z",
     "iopub.status.busy": "2021-10-26T02:51:59.229631Z",
     "iopub.status.idle": "2021-10-26T02:51:59.280373Z",
     "shell.execute_reply": "2021-10-26T02:51:59.280861Z",
     "shell.execute_reply.started": "2021-10-26T02:41:38.700549Z"
    },
    "id": "Y09TF3Q31QOn",
    "papermill": {
     "duration": 0.147513,
     "end_time": "2021-10-26T02:51:59.281041",
     "exception": false,
     "start_time": "2021-10-26T02:51:59.133528",
     "status": "completed"
    },
    "tags": []
   },
   "outputs": [],
   "source": [
    "Customers_Lifetime_df=df.groupby('Customer ID').sum()"
   ]
  },
  {
   "cell_type": "code",
   "execution_count": 54,
   "id": "47b79ae4",
   "metadata": {
    "execution": {
     "iopub.execute_input": "2021-10-26T02:51:59.469349Z",
     "iopub.status.busy": "2021-10-26T02:51:59.468658Z",
     "iopub.status.idle": "2021-10-26T02:51:59.469997Z",
     "shell.execute_reply": "2021-10-26T02:51:59.470651Z",
     "shell.execute_reply.started": "2021-10-26T02:41:39.072381Z"
    },
    "id": "vt-IluAc1Y7a",
    "papermill": {
     "duration": 0.098184,
     "end_time": "2021-10-26T02:51:59.470844",
     "exception": false,
     "start_time": "2021-10-26T02:51:59.372660",
     "status": "completed"
    },
    "tags": []
   },
   "outputs": [],
   "source": [
    "del Customers_Lifetime_df['Invoice_Month']\n",
    "del Customers_Lifetime_df['Quantity']"
   ]
  },
  {
   "cell_type": "code",
   "execution_count": 55,
   "id": "9fa5d56c",
   "metadata": {
    "execution": {
     "iopub.execute_input": "2021-10-26T02:51:59.657735Z",
     "iopub.status.busy": "2021-10-26T02:51:59.656975Z",
     "iopub.status.idle": "2021-10-26T02:51:59.660880Z",
     "shell.execute_reply": "2021-10-26T02:51:59.661423Z",
     "shell.execute_reply.started": "2021-10-26T02:41:39.453536Z"
    },
    "id": "Vh6Tk9eJ7Z79",
    "papermill": {
     "duration": 0.100097,
     "end_time": "2021-10-26T02:51:59.661605",
     "exception": false,
     "start_time": "2021-10-26T02:51:59.561508",
     "status": "completed"
    },
    "tags": []
   },
   "outputs": [],
   "source": [
    "Customers_Lifetime_df.rename(columns={'Price':'CLV'},inplace=True)"
   ]
  },
  {
   "cell_type": "code",
   "execution_count": 56,
   "id": "869565e4",
   "metadata": {
    "execution": {
     "iopub.execute_input": "2021-10-26T02:51:59.846964Z",
     "iopub.status.busy": "2021-10-26T02:51:59.846335Z",
     "iopub.status.idle": "2021-10-26T02:51:59.858644Z",
     "shell.execute_reply": "2021-10-26T02:51:59.859200Z",
     "shell.execute_reply.started": "2021-10-26T02:41:39.832155Z"
    },
    "id": "_ZrdWpjf67yg",
    "outputId": "0a9674ab-080d-4896-df65-368d7bfe8314",
    "papermill": {
     "duration": 0.10628,
     "end_time": "2021-10-26T02:51:59.859385",
     "exception": false,
     "start_time": "2021-10-26T02:51:59.753105",
     "status": "completed"
    },
    "tags": []
   },
   "outputs": [
    {
     "data": {
      "text/html": [
       "<div>\n",
       "<style scoped>\n",
       "    .dataframe tbody tr th:only-of-type {\n",
       "        vertical-align: middle;\n",
       "    }\n",
       "\n",
       "    .dataframe tbody tr th {\n",
       "        vertical-align: top;\n",
       "    }\n",
       "\n",
       "    .dataframe thead th {\n",
       "        text-align: right;\n",
       "    }\n",
       "</style>\n",
       "<table border=\"1\" class=\"dataframe\">\n",
       "  <thead>\n",
       "    <tr style=\"text-align: right;\">\n",
       "      <th></th>\n",
       "      <th>CLV</th>\n",
       "    </tr>\n",
       "    <tr>\n",
       "      <th>Customer ID</th>\n",
       "      <th></th>\n",
       "    </tr>\n",
       "  </thead>\n",
       "  <tbody>\n",
       "    <tr>\n",
       "      <th>14911.0</th>\n",
       "      <td>31560.54</td>\n",
       "    </tr>\n",
       "    <tr>\n",
       "      <th>14156.0</th>\n",
       "      <td>18678.87</td>\n",
       "    </tr>\n",
       "    <tr>\n",
       "      <th>17841.0</th>\n",
       "      <td>14943.25</td>\n",
       "    </tr>\n",
       "    <tr>\n",
       "      <th>15760.0</th>\n",
       "      <td>13916.34</td>\n",
       "    </tr>\n",
       "    <tr>\n",
       "      <th>14063.0</th>\n",
       "      <td>13443.55</td>\n",
       "    </tr>\n",
       "    <tr>\n",
       "      <th>...</th>\n",
       "      <td>...</td>\n",
       "    </tr>\n",
       "    <tr>\n",
       "      <th>14900.0</th>\n",
       "      <td>0.29</td>\n",
       "    </tr>\n",
       "    <tr>\n",
       "      <th>14845.0</th>\n",
       "      <td>0.25</td>\n",
       "    </tr>\n",
       "    <tr>\n",
       "      <th>14033.0</th>\n",
       "      <td>0.19</td>\n",
       "    </tr>\n",
       "    <tr>\n",
       "      <th>14103.0</th>\n",
       "      <td>0.00</td>\n",
       "    </tr>\n",
       "    <tr>\n",
       "      <th>14827.0</th>\n",
       "      <td>0.00</td>\n",
       "    </tr>\n",
       "  </tbody>\n",
       "</table>\n",
       "<p>4314 rows × 1 columns</p>\n",
       "</div>"
      ],
      "text/plain": [
       "                  CLV\n",
       "Customer ID          \n",
       "14911.0      31560.54\n",
       "14156.0      18678.87\n",
       "17841.0      14943.25\n",
       "15760.0      13916.34\n",
       "14063.0      13443.55\n",
       "...               ...\n",
       "14900.0          0.29\n",
       "14845.0          0.25\n",
       "14033.0          0.19\n",
       "14103.0          0.00\n",
       "14827.0          0.00\n",
       "\n",
       "[4314 rows x 1 columns]"
      ]
     },
     "execution_count": 56,
     "metadata": {},
     "output_type": "execute_result"
    }
   ],
   "source": [
    "Customers_Lifetime_df.sort_values(by='CLV',ascending=False)"
   ]
  },
  {
   "cell_type": "markdown",
   "id": "f6e251d9",
   "metadata": {
    "id": "qR9p_6jc7uxk",
    "papermill": {
     "duration": 0.093576,
     "end_time": "2021-10-26T02:52:00.045294",
     "exception": false,
     "start_time": "2021-10-26T02:51:59.951718",
     "status": "completed"
    },
    "tags": []
   },
   "source": [
    "This is the Customers Lifetime Value in Decreasing Order."
   ]
  },
  {
   "cell_type": "code",
   "execution_count": 57,
   "id": "6a84456e",
   "metadata": {
    "execution": {
     "iopub.execute_input": "2021-10-26T02:52:00.256875Z",
     "iopub.status.busy": "2021-10-26T02:52:00.255910Z",
     "iopub.status.idle": "2021-10-26T02:52:00.260519Z",
     "shell.execute_reply": "2021-10-26T02:52:00.261318Z",
     "shell.execute_reply.started": "2021-10-26T02:41:40.700364Z"
    },
    "id": "mwc0FvEc7-Od",
    "outputId": "a34365ef-4660-479a-e533-37dec12269e7",
    "papermill": {
     "duration": 0.124201,
     "end_time": "2021-10-26T02:52:00.261557",
     "exception": false,
     "start_time": "2021-10-26T02:52:00.137356",
     "status": "completed"
    },
    "tags": []
   },
   "outputs": [
    {
     "data": {
      "text/plain": [
       "<bound method IndexOpsMixin.value_counts of 0          85048\n",
       "1         79323P\n",
       "2         79323W\n",
       "3          22041\n",
       "4          21232\n",
       "           ...  \n",
       "525456     22271\n",
       "525457     22750\n",
       "525458     22751\n",
       "525459     20970\n",
       "525460     21931\n",
       "Name: StockCode, Length: 505190, dtype: object>"
      ]
     },
     "execution_count": 57,
     "metadata": {},
     "output_type": "execute_result"
    }
   ],
   "source": [
    "df['StockCode'].value_counts"
   ]
  },
  {
   "cell_type": "markdown",
   "id": "80e53811",
   "metadata": {
    "id": "5HC-bV4Hl4s5",
    "papermill": {
     "duration": 0.113512,
     "end_time": "2021-10-26T02:52:00.520772",
     "exception": false,
     "start_time": "2021-10-26T02:52:00.407260",
     "status": "completed"
    },
    "tags": []
   },
   "source": [
    "## INFERENCE FROM DESCRIPTION"
   ]
  },
  {
   "cell_type": "code",
   "execution_count": 58,
   "id": "e723444e",
   "metadata": {
    "execution": {
     "iopub.execute_input": "2021-10-26T02:52:00.791106Z",
     "iopub.status.busy": "2021-10-26T02:52:00.789933Z",
     "iopub.status.idle": "2021-10-26T02:52:00.834532Z",
     "shell.execute_reply": "2021-10-26T02:52:00.833745Z",
     "shell.execute_reply.started": "2021-10-26T02:41:41.608187Z"
    },
    "id": "q3eCobZw8T6f",
    "outputId": "2c071c14-95ed-419f-f785-b9ad35d7b1f0",
    "papermill": {
     "duration": 0.203277,
     "end_time": "2021-10-26T02:52:00.834729",
     "exception": false,
     "start_time": "2021-10-26T02:52:00.631452",
     "status": "completed"
    },
    "tags": []
   },
   "outputs": [
    {
     "name": "stdout",
     "output_type": "stream",
     "text": [
      "Number of unique items sold in the store in 1 year: 4559\n"
     ]
    }
   ],
   "source": [
    "print('Number of unique items sold in the store in 1 year:',len(df['Description'].dropna().unique()))"
   ]
  },
  {
   "cell_type": "code",
   "execution_count": 59,
   "id": "71ddab33",
   "metadata": {
    "execution": {
     "iopub.execute_input": "2021-10-26T02:52:01.056067Z",
     "iopub.status.busy": "2021-10-26T02:52:01.055422Z",
     "iopub.status.idle": "2021-10-26T02:52:01.123985Z",
     "shell.execute_reply": "2021-10-26T02:52:01.124542Z",
     "shell.execute_reply.started": "2021-10-26T02:41:41.956030Z"
    },
    "id": "bFv-Juhwlw2j",
    "outputId": "0e1cfe20-0f85-40a2-b0c2-f73f9c922270",
    "papermill": {
     "duration": 0.175773,
     "end_time": "2021-10-26T02:52:01.124744",
     "exception": false,
     "start_time": "2021-10-26T02:52:00.948971",
     "status": "completed"
    },
    "tags": []
   },
   "outputs": [
    {
     "data": {
      "text/plain": [
       "WHITE HANGING HEART T-LIGHT HOLDER     3410\n",
       "REGENCY CAKESTAND 3 TIER               2036\n",
       "STRAWBERRY CERAMIC TRINKET BOX         1679\n",
       "ASSORTED COLOUR BIRD ORNAMENT          1436\n",
       "PACK OF 72 RETRO SPOT CAKE CASES       1435\n",
       "                                       ... \n",
       "SWEETHEART CREAM STEEL FOLDIN CHAIR       1\n",
       "ORIGAMI OPIUM SCENT INCENSE+FLOWER        1\n",
       "HANDZ-OFF CAR FRESHENER                   1\n",
       "JADE GREEN PAIR ENAMEL HAIR SLIDES        1\n",
       "*Boombox Ipod Classic                     1\n",
       "Name: Description, Length: 4559, dtype: int64"
      ]
     },
     "execution_count": 59,
     "metadata": {},
     "output_type": "execute_result"
    }
   ],
   "source": [
    "df['Description'].value_counts()"
   ]
  },
  {
   "cell_type": "code",
   "execution_count": 60,
   "id": "acf1df64",
   "metadata": {
    "execution": {
     "iopub.execute_input": "2021-10-26T02:52:01.318544Z",
     "iopub.status.busy": "2021-10-26T02:52:01.317888Z",
     "iopub.status.idle": "2021-10-26T02:52:02.422010Z",
     "shell.execute_reply": "2021-10-26T02:52:02.422537Z",
     "shell.execute_reply.started": "2021-10-26T02:41:42.324135Z"
    },
    "id": "TokL5tUrmxir",
    "outputId": "e19534a1-9a0a-45e4-d73b-47c557425c1a",
    "papermill": {
     "duration": 1.199477,
     "end_time": "2021-10-26T02:52:02.422716",
     "exception": false,
     "start_time": "2021-10-26T02:52:01.223239",
     "status": "completed"
    },
    "tags": []
   },
   "outputs": [
    {
     "data": {
      "text/plain": [
       "<AxesSubplot:title={'center':'Top 50 Product Sales'}, ylabel='Number of times Product Sold'>"
      ]
     },
     "execution_count": 60,
     "metadata": {},
     "output_type": "execute_result"
    },
    {
     "data": {
      "image/png": "[encoded data removed]",
      "text/plain": [
       "<Figure size 1080x720 with 1 Axes>"
      ]
     },
     "metadata": {
      "needs_background": "light"
     },
     "output_type": "display_data"
    }
   ],
   "source": [
    "df['Description'].value_counts()[:50].plot(kind='bar',figsize=(15,10),ylabel='Number of times Product Sold',title='Top 50 Product Sales')"
   ]
  },
  {
   "cell_type": "markdown",
   "id": "8deda80c",
   "metadata": {
    "id": "2v7dOwbiuUlh",
    "papermill": {
     "duration": 0.096017,
     "end_time": "2021-10-26T02:52:02.615228",
     "exception": false,
     "start_time": "2021-10-26T02:52:02.519211",
     "status": "completed"
    },
    "tags": []
   },
   "source": [
    "***Top 50 Products which has a Highest Sale in the Store.***\n",
    "\n",
    "***WHITE HANGING HEART T-LIGHT HOLDER has a Highest Sale in the Store***"
   ]
  },
  {
   "cell_type": "code",
   "execution_count": 61,
   "id": "540d4204",
   "metadata": {
    "execution": {
     "iopub.execute_input": "2021-10-26T02:52:02.875242Z",
     "iopub.status.busy": "2021-10-26T02:52:02.812327Z",
     "iopub.status.idle": "2021-10-26T02:52:02.941189Z",
     "shell.execute_reply": "2021-10-26T02:52:02.940642Z",
     "shell.execute_reply.started": "2021-10-26T02:41:43.408827Z"
    },
    "id": "FU4ub51avYr3",
    "papermill": {
     "duration": 0.229984,
     "end_time": "2021-10-26T02:52:02.941361",
     "exception": false,
     "start_time": "2021-10-26T02:52:02.711377",
     "status": "completed"
    },
    "tags": []
   },
   "outputs": [],
   "source": [
    "prod_with_1_sale=df['Description'].value_counts()[df['Description'].value_counts()==1]"
   ]
  },
  {
   "cell_type": "code",
   "execution_count": 62,
   "id": "dc21cc40",
   "metadata": {
    "execution": {
     "iopub.execute_input": "2021-10-26T02:52:03.138920Z",
     "iopub.status.busy": "2021-10-26T02:52:03.138246Z",
     "iopub.status.idle": "2021-10-26T02:52:03.143095Z",
     "shell.execute_reply": "2021-10-26T02:52:03.142551Z",
     "shell.execute_reply.started": "2021-10-26T02:41:43.538265Z"
    },
    "id": "-yft7SYnvpCR",
    "outputId": "002c8c71-d416-48b2-ddc7-c4dac94786b5",
    "papermill": {
     "duration": 0.105795,
     "end_time": "2021-10-26T02:52:03.143230",
     "exception": false,
     "start_time": "2021-10-26T02:52:03.037435",
     "status": "completed"
    },
    "tags": []
   },
   "outputs": [
    {
     "name": "stdout",
     "output_type": "stream",
     "text": [
      "There are 192 Product which is Sold only once.\n"
     ]
    }
   ],
   "source": [
    "print(f'There are {len(prod_with_1_sale)} Product which is Sold only once.')"
   ]
  },
  {
   "cell_type": "code",
   "execution_count": 63,
   "id": "d025f8b1",
   "metadata": {
    "execution": {
     "iopub.execute_input": "2021-10-26T02:52:03.341570Z",
     "iopub.status.busy": "2021-10-26T02:52:03.340956Z",
     "iopub.status.idle": "2021-10-26T02:52:03.347786Z",
     "shell.execute_reply": "2021-10-26T02:52:03.348294Z",
     "shell.execute_reply.started": "2021-10-26T02:41:43.932421Z"
    },
    "id": "GZH7tNns1vUH",
    "outputId": "8213de2a-b957-4275-80c3-2718e01107b7",
    "papermill": {
     "duration": 0.108915,
     "end_time": "2021-10-26T02:52:03.348461",
     "exception": false,
     "start_time": "2021-10-26T02:52:03.239546",
     "status": "completed"
    },
    "tags": []
   },
   "outputs": [
    {
     "data": {
      "text/plain": [
       "BENDY COLOUR PENCILS                   1\n",
       "LETTER \"U\" BLING KEY RING              1\n",
       "NEW BAROQUE BLACK BOXES                1\n",
       "AMBER 3 BEAD DROP EARRINGS             1\n",
       "NUMBER TILE VINTAGE FONT, 5            1\n",
       "                                      ..\n",
       "SWEETHEART CREAM STEEL FOLDIN CHAIR    1\n",
       "ORIGAMI OPIUM SCENT INCENSE+FLOWER     1\n",
       "HANDZ-OFF CAR FRESHENER                1\n",
       "JADE GREEN PAIR ENAMEL HAIR SLIDES     1\n",
       "*Boombox Ipod Classic                  1\n",
       "Name: Description, Length: 192, dtype: int64"
      ]
     },
     "execution_count": 63,
     "metadata": {},
     "output_type": "execute_result"
    }
   ],
   "source": [
    "prod_with_1_sale"
   ]
  },
  {
   "cell_type": "markdown",
   "id": "b7f66aac",
   "metadata": {
    "id": "P23xwmBq2mC4",
    "papermill": {
     "duration": 0.096531,
     "end_time": "2021-10-26T02:52:03.542082",
     "exception": false,
     "start_time": "2021-10-26T02:52:03.445551",
     "status": "completed"
    },
    "tags": []
   },
   "source": [
    "#### I tried to bring the Insights from the Retail Store data for 1 year.  More Insights can be Drawn from the data You can try your hands on the data."
   ]
  },
  {
   "cell_type": "markdown",
   "id": "18c69b34",
   "metadata": {
    "papermill": {
     "duration": 0.097202,
     "end_time": "2021-10-26T02:52:03.735706",
     "exception": false,
     "start_time": "2021-10-26T02:52:03.638504",
     "status": "completed"
    },
    "tags": []
   },
   "source": [
    "#### If you gain some Knowledge Please Upvote the Notebook"
   ]
  },
  {
   "cell_type": "markdown",
   "id": "0b376b02",
   "metadata": {
    "papermill": {
     "duration": 0.096749,
     "end_time": "2021-10-26T02:52:03.929056",
     "exception": false,
     "start_time": "2021-10-26T02:52:03.832307",
     "status": "completed"
    },
    "tags": []
   },
   "source": [
    "THANK YOU."
   ]
  },
  {
   "cell_type": "markdown",
   "id": "2a2fb4c3",
   "metadata": {
    "papermill": {
     "duration": 0.096583,
     "end_time": "2021-10-26T02:52:04.122627",
     "exception": false,
     "start_time": "2021-10-26T02:52:04.026044",
     "status": "completed"
    },
    "tags": []
   },
   "source": [
    "CHECK MY OTHER NOTEBOOKS: https://www.kaggle.com/harshwalia/code?scroll=true"
   ]
  },
  {
   "cell_type": "code",
   "execution_count": null,
   "id": "e0ce17d9",
   "metadata": {
    "papermill": {
     "duration": 0.096691,
     "end_time": "2021-10-26T02:52:04.315979",
     "exception": false,
     "start_time": "2021-10-26T02:52:04.219288",
     "status": "completed"
    },
    "tags": []
   },
   "outputs": [],
   "source": []
  }
 ],
 "metadata": {
  "kernelspec": {
   "display_name": "Python 3",
   "language": "python",
   "name": "python3"
  },
  "language_info": {
   "codemirror_mode": {
    "name": "ipython",
    "version": 3
   },
   "file_extension": ".py",
   "mimetype": "text/x-python",
   "name": "python",
   "nbconvert_exporter": "python",
   "pygments_lexer": "ipython3",
   "version": "3.7.10"
  },
  "papermill": {
   "default_parameters": {},
   "duration": 133.106166,
   "end_time": "2021-10-26T02:52:05.122506",
   "environment_variables": {},
   "exception": null,
   "input_path": "__notebook__.ipynb",
   "output_path": "__notebook__.ipynb",
   "parameters": {},
   "start_time": "2021-10-26T02:49:52.016340",
   "version": "2.3.3"
  }
 },
 "nbformat": 4,
 "nbformat_minor": 5
}
